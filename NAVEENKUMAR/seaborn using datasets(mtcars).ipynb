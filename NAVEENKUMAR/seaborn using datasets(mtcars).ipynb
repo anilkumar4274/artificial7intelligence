{
 "cells": [
  {
   "cell_type": "code",
   "execution_count": 32,
   "metadata": {},
   "outputs": [],
   "source": [
    "import numpy as np \n",
    "import pandas as pd\n",
    "import os\n",
    "import matplotlib.pyplot as plt\n",
    "import seaborn as sn"
   ]
  },
  {
   "cell_type": "code",
   "execution_count": 33,
   "metadata": {},
   "outputs": [
    {
     "data": {
      "text/plain": [
       "'C:\\\\Users\\\\Naveen Kumar\\\\Desktop\\\\phython\\\\excel files'"
      ]
     },
     "execution_count": 33,
     "metadata": {},
     "output_type": "execute_result"
    }
   ],
   "source": [
    "os.getcwd()"
   ]
  },
  {
   "cell_type": "code",
   "execution_count": 34,
   "metadata": {},
   "outputs": [],
   "source": [
    "os.chdir('C:\\\\Users\\\\Naveen Kumar\\\\Desktop\\\\phython\\\\excel files')"
   ]
  },
  {
   "cell_type": "code",
   "execution_count": 35,
   "metadata": {},
   "outputs": [],
   "source": [
    "df=pd.read_csv('mtcars.csv')"
   ]
  },
  {
   "cell_type": "code",
   "execution_count": 36,
   "metadata": {},
   "outputs": [
    {
     "data": {
      "text/html": [
       "<div>\n",
       "<style scoped>\n",
       "    .dataframe tbody tr th:only-of-type {\n",
       "        vertical-align: middle;\n",
       "    }\n",
       "\n",
       "    .dataframe tbody tr th {\n",
       "        vertical-align: top;\n",
       "    }\n",
       "\n",
       "    .dataframe thead th {\n",
       "        text-align: right;\n",
       "    }\n",
       "</style>\n",
       "<table border=\"1\" class=\"dataframe\">\n",
       "  <thead>\n",
       "    <tr style=\"text-align: right;\">\n",
       "      <th></th>\n",
       "      <th>mpg</th>\n",
       "      <th>cyl</th>\n",
       "      <th>disp</th>\n",
       "      <th>hp</th>\n",
       "      <th>drat</th>\n",
       "      <th>wt</th>\n",
       "      <th>qsec</th>\n",
       "      <th>vs</th>\n",
       "      <th>am</th>\n",
       "      <th>gear</th>\n",
       "      <th>carb</th>\n",
       "      <th>fast</th>\n",
       "      <th>cars</th>\n",
       "      <th>carname</th>\n",
       "      <th>yrows</th>\n",
       "      <th>xcols</th>\n",
       "    </tr>\n",
       "  </thead>\n",
       "  <tbody>\n",
       "    <tr>\n",
       "      <th>0</th>\n",
       "      <td>4.582576</td>\n",
       "      <td>6</td>\n",
       "      <td>160.0</td>\n",
       "      <td>110</td>\n",
       "      <td>3.90</td>\n",
       "      <td>2.620</td>\n",
       "      <td>16.46</td>\n",
       "      <td>0</td>\n",
       "      <td>1</td>\n",
       "      <td>4</td>\n",
       "      <td>4</td>\n",
       "      <td>1</td>\n",
       "      <td>Mazda RX4</td>\n",
       "      <td>Mazda RX4</td>\n",
       "      <td>1</td>\n",
       "      <td>1</td>\n",
       "    </tr>\n",
       "    <tr>\n",
       "      <th>1</th>\n",
       "      <td>4.582576</td>\n",
       "      <td>6</td>\n",
       "      <td>160.0</td>\n",
       "      <td>110</td>\n",
       "      <td>3.90</td>\n",
       "      <td>2.875</td>\n",
       "      <td>17.02</td>\n",
       "      <td>0</td>\n",
       "      <td>1</td>\n",
       "      <td>4</td>\n",
       "      <td>4</td>\n",
       "      <td>1</td>\n",
       "      <td>Mazda RX4 Wag</td>\n",
       "      <td>Mazda RX4 Wag</td>\n",
       "      <td>1</td>\n",
       "      <td>2</td>\n",
       "    </tr>\n",
       "    <tr>\n",
       "      <th>2</th>\n",
       "      <td>4.774935</td>\n",
       "      <td>4</td>\n",
       "      <td>108.0</td>\n",
       "      <td>93</td>\n",
       "      <td>3.85</td>\n",
       "      <td>2.320</td>\n",
       "      <td>18.61</td>\n",
       "      <td>1</td>\n",
       "      <td>1</td>\n",
       "      <td>4</td>\n",
       "      <td>1</td>\n",
       "      <td>1</td>\n",
       "      <td>Datsun 710</td>\n",
       "      <td>Datsun 710</td>\n",
       "      <td>1</td>\n",
       "      <td>3</td>\n",
       "    </tr>\n",
       "    <tr>\n",
       "      <th>3</th>\n",
       "      <td>4.626013</td>\n",
       "      <td>6</td>\n",
       "      <td>258.0</td>\n",
       "      <td>110</td>\n",
       "      <td>3.08</td>\n",
       "      <td>3.215</td>\n",
       "      <td>19.44</td>\n",
       "      <td>1</td>\n",
       "      <td>0</td>\n",
       "      <td>3</td>\n",
       "      <td>1</td>\n",
       "      <td>1</td>\n",
       "      <td>Hornet 4 Drive</td>\n",
       "      <td>Hornet 4 Drive</td>\n",
       "      <td>1</td>\n",
       "      <td>4</td>\n",
       "    </tr>\n",
       "    <tr>\n",
       "      <th>4</th>\n",
       "      <td>4.324350</td>\n",
       "      <td>8</td>\n",
       "      <td>360.0</td>\n",
       "      <td>175</td>\n",
       "      <td>3.15</td>\n",
       "      <td>3.440</td>\n",
       "      <td>17.02</td>\n",
       "      <td>0</td>\n",
       "      <td>0</td>\n",
       "      <td>3</td>\n",
       "      <td>2</td>\n",
       "      <td>1</td>\n",
       "      <td>Hornet Sportabout</td>\n",
       "      <td>Hornet Sportabout</td>\n",
       "      <td>2</td>\n",
       "      <td>1</td>\n",
       "    </tr>\n",
       "  </tbody>\n",
       "</table>\n",
       "</div>"
      ],
      "text/plain": [
       "        mpg  cyl   disp   hp  drat     wt   qsec  vs  am  gear  carb  fast  \\\n",
       "0  4.582576    6  160.0  110  3.90  2.620  16.46   0   1     4     4     1   \n",
       "1  4.582576    6  160.0  110  3.90  2.875  17.02   0   1     4     4     1   \n",
       "2  4.774935    4  108.0   93  3.85  2.320  18.61   1   1     4     1     1   \n",
       "3  4.626013    6  258.0  110  3.08  3.215  19.44   1   0     3     1     1   \n",
       "4  4.324350    8  360.0  175  3.15  3.440  17.02   0   0     3     2     1   \n",
       "\n",
       "                cars            carname  yrows  xcols  \n",
       "0          Mazda RX4          Mazda RX4      1      1  \n",
       "1      Mazda RX4 Wag      Mazda RX4 Wag      1      2  \n",
       "2         Datsun 710         Datsun 710      1      3  \n",
       "3     Hornet 4 Drive     Hornet 4 Drive      1      4  \n",
       "4  Hornet Sportabout  Hornet Sportabout      2      1  "
      ]
     },
     "execution_count": 36,
     "metadata": {},
     "output_type": "execute_result"
    }
   ],
   "source": [
    "df.head()"
   ]
  },
  {
   "cell_type": "code",
   "execution_count": 37,
   "metadata": {},
   "outputs": [
    {
     "name": "stdout",
     "output_type": "stream",
     "text": [
      "[[3.9  3.9  3.85 3.08 3.15 2.76 3.21 3.69]\n",
      " [3.92 3.92 3.92 3.07 3.07 3.07 2.93 3.  ]\n",
      " [3.23 4.08 4.93 4.22 3.7  2.76 3.15 3.73]\n",
      " [3.08 4.08 4.43 3.77 4.22 3.62 3.54 4.11]]\n",
      "[[4 4 4 3 3 3 3 4]\n",
      " [4 4 4 3 3 3 3 3]\n",
      " [3 4 4 4 3 3 3 3]\n",
      " [3 4 5 5 5 5 5 4]]\n",
      "[['Mazda RX4' 'Mazda RX4 Wag' 'Datsun 710' 'Hornet 4 Drive'\n",
      "  'Hornet Sportabout' 'Valiant' 'Duster 360' 'Merc 240D']\n",
      " ['Merc 230' 'Merc 280' 'Merc 280C' 'Merc 450SE' 'Merc 450SL'\n",
      "  'Merc 450SLC' 'Cadillac Fleetwood' 'Lincoln Continental']\n",
      " ['Chrysler Imperial' 'Fiat 128' 'Honda Civic' 'Toyota Corolla'\n",
      "  'Toyota Corona' 'Dodge Challenger' 'AMC Javelin' 'Camaro Z28']\n",
      " ['Pontiac Firebird' 'Fiat X1-9' 'Porsche 914-2' 'Lotus Europa'\n",
      "  'Ford Pantera L' 'Ferrari Dino' 'Maserati Bora' 'Volvo 142E']]\n"
     ]
    }
   ],
   "source": [
    "carname1=(np.asarray(df['carname'])).reshape(4,8)\n",
    "drat1=(np.asarray(df['drat'])).reshape(4,8)\n",
    "gear1=(np.asarray(df['gear'])).reshape(4,8)\n",
    "print(drat1)\n",
    "print(gear1)\n",
    "print(carname1)"
   ]
  },
  {
   "cell_type": "code",
   "execution_count": 38,
   "metadata": {
    "scrolled": true
   },
   "outputs": [
    {
     "data": {
      "text/html": [
       "<div>\n",
       "<style scoped>\n",
       "    .dataframe tbody tr th:only-of-type {\n",
       "        vertical-align: middle;\n",
       "    }\n",
       "\n",
       "    .dataframe tbody tr th {\n",
       "        vertical-align: top;\n",
       "    }\n",
       "\n",
       "    .dataframe thead th {\n",
       "        text-align: right;\n",
       "    }\n",
       "</style>\n",
       "<table border=\"1\" class=\"dataframe\">\n",
       "  <thead>\n",
       "    <tr style=\"text-align: right;\">\n",
       "      <th>xcols</th>\n",
       "      <th>1</th>\n",
       "      <th>2</th>\n",
       "      <th>3</th>\n",
       "      <th>4</th>\n",
       "    </tr>\n",
       "    <tr>\n",
       "      <th>yrows</th>\n",
       "      <th></th>\n",
       "      <th></th>\n",
       "      <th></th>\n",
       "      <th></th>\n",
       "    </tr>\n",
       "  </thead>\n",
       "  <tbody>\n",
       "    <tr>\n",
       "      <th>1</th>\n",
       "      <td>2.620</td>\n",
       "      <td>2.875</td>\n",
       "      <td>2.320</td>\n",
       "      <td>3.215</td>\n",
       "    </tr>\n",
       "    <tr>\n",
       "      <th>2</th>\n",
       "      <td>3.440</td>\n",
       "      <td>3.460</td>\n",
       "      <td>3.570</td>\n",
       "      <td>3.190</td>\n",
       "    </tr>\n",
       "    <tr>\n",
       "      <th>3</th>\n",
       "      <td>3.150</td>\n",
       "      <td>3.440</td>\n",
       "      <td>3.440</td>\n",
       "      <td>4.070</td>\n",
       "    </tr>\n",
       "    <tr>\n",
       "      <th>4</th>\n",
       "      <td>3.730</td>\n",
       "      <td>3.780</td>\n",
       "      <td>5.250</td>\n",
       "      <td>5.424</td>\n",
       "    </tr>\n",
       "    <tr>\n",
       "      <th>5</th>\n",
       "      <td>5.345</td>\n",
       "      <td>2.200</td>\n",
       "      <td>1.615</td>\n",
       "      <td>1.835</td>\n",
       "    </tr>\n",
       "    <tr>\n",
       "      <th>6</th>\n",
       "      <td>2.465</td>\n",
       "      <td>3.520</td>\n",
       "      <td>3.435</td>\n",
       "      <td>3.840</td>\n",
       "    </tr>\n",
       "    <tr>\n",
       "      <th>7</th>\n",
       "      <td>3.845</td>\n",
       "      <td>1.935</td>\n",
       "      <td>2.140</td>\n",
       "      <td>1.513</td>\n",
       "    </tr>\n",
       "    <tr>\n",
       "      <th>8</th>\n",
       "      <td>3.170</td>\n",
       "      <td>2.770</td>\n",
       "      <td>3.570</td>\n",
       "      <td>2.780</td>\n",
       "    </tr>\n",
       "  </tbody>\n",
       "</table>\n",
       "</div>"
      ],
      "text/plain": [
       "xcols      1      2      3      4\n",
       "yrows                            \n",
       "1      2.620  2.875  2.320  3.215\n",
       "2      3.440  3.460  3.570  3.190\n",
       "3      3.150  3.440  3.440  4.070\n",
       "4      3.730  3.780  5.250  5.424\n",
       "5      5.345  2.200  1.615  1.835\n",
       "6      2.465  3.520  3.435  3.840\n",
       "7      3.845  1.935  2.140  1.513\n",
       "8      3.170  2.770  3.570  2.780"
      ]
     },
     "execution_count": 38,
     "metadata": {},
     "output_type": "execute_result"
    }
   ],
   "source": [
    "result=df.pivot(index='yrows',columns='xcols',values='wt')\n",
    "result"
   ]
  },
  {
   "cell_type": "code",
   "execution_count": 39,
   "metadata": {},
   "outputs": [
    {
     "data": {
      "text/plain": [
       "array([['Mazda RX4 \\n 3.9 \\n 4 ', 'Mazda RX4 Wag \\n 3.9 \\n 4 ',\n",
       "        'Datsun 710 \\n 3.85 \\n 4 ', 'Hornet 4 Drive \\n 3.08 \\n 3 '],\n",
       "       ['Hornet Sportabout \\n 3.15 \\n 3 ', 'Valiant \\n 2.76 \\n 3 ',\n",
       "        'Duster 360 \\n 3.21 \\n 3 ', 'Merc 240D \\n 3.69 \\n 4 '],\n",
       "       ['Merc 230 \\n 3.92 \\n 4 ', 'Merc 280 \\n 3.92 \\n 4 ',\n",
       "        'Merc 280C \\n 3.92 \\n 4 ', 'Merc 450SE \\n 3.07 \\n 3 '],\n",
       "       ['Merc 450SL \\n 3.07 \\n 3 ', 'Merc 450SLC \\n 3.07 \\n 3 ',\n",
       "        'Cadillac Fleetwood \\n 2.93 \\n 3 ',\n",
       "        'Lincoln Continental \\n 3.0 \\n 3 '],\n",
       "       ['Chrysler Imperial \\n 3.23 \\n 3 ', 'Fiat 128 \\n 4.08 \\n 4 ',\n",
       "        'Honda Civic \\n 4.93 \\n 4 ', 'Toyota Corolla \\n 4.22 \\n 4 '],\n",
       "       ['Toyota Corona \\n 3.7 \\n 3 ', 'Dodge Challenger \\n 2.76 \\n 3 ',\n",
       "        'AMC Javelin \\n 3.15 \\n 3 ', 'Camaro Z28 \\n 3.73 \\n 3 '],\n",
       "       ['Pontiac Firebird \\n 3.08 \\n 3 ', 'Fiat X1-9 \\n 4.08 \\n 4 ',\n",
       "        'Porsche 914-2 \\n 4.43 \\n 5 ', 'Lotus Europa \\n 3.77 \\n 5 '],\n",
       "       ['Ford Pantera L \\n 4.22 \\n 5 ', 'Ferrari Dino \\n 3.62 \\n 5 ',\n",
       "        'Maserati Bora \\n 3.54 \\n 5 ', 'Volvo 142E \\n 4.11 \\n 4 ']],\n",
       "      dtype='<U30')"
      ]
     },
     "execution_count": 39,
     "metadata": {},
     "output_type": "execute_result"
    }
   ],
   "source": [
    "labels=np.asarray([\"{} \\n {} \\n {} \".format(cars,drat,gear) for cars,drat,gear in zip(carname1.flatten(),drat1.flatten(),gear1.flatten())]).reshape(8,4)\n",
    "labels"
   ]
  },
  {
   "cell_type": "code",
   "execution_count": 40,
   "metadata": {},
   "outputs": [
    {
     "data": {
      "image/png": "[encoded data removed]",
      "text/plain": [
       "<Figure size 720x504 with 2 Axes>"
      ]
     },
     "metadata": {
      "needs_background": "light"
     },
     "output_type": "display_data"
    }
   ],
   "source": [
    "fig,ax=plt.subplots(figsize=(10,7))\n",
    "title=\"MTCARS\"\n",
    "plt.title(title,fontsize=15)\n",
    "ttl=ax.title\n",
    "ttl.set_position([0.5,1.05])\n",
    "ax.set_xticks([])\n",
    "ax.set_yticks([])\n",
    "sn.heatmap(result,annot=labels,fmt=\"\",cmap='summer',linewidth=0.3,ax=ax)\n",
    "plt.show()"
   ]
  },
  {
   "cell_type": "code",
   "execution_count": null,
   "metadata": {},
   "outputs": [],
   "source": []
  }
 ],
 "metadata": {
  "kernelspec": {
   "display_name": "Python 3",
   "language": "python",
   "name": "python3"
  },
  "language_info": {
   "codemirror_mode": {
    "name": "ipython",
    "version": 3
   },
   "file_extension": ".py",
   "mimetype": "text/x-python",
   "name": "python",
   "nbconvert_exporter": "python",
   "pygments_lexer": "ipython3",
   "version": "3.7.1"
  }
 },
 "nbformat": 4,
 "nbformat_minor": 2
}
