{
 "cells": [
  {
   "cell_type": "code",
   "execution_count": 1,
   "metadata": {},
   "outputs": [
    {
     "data": {
      "text/plain": [
       "'C:\\\\Users\\\\MAHE\\\\Desktop\\\\Data Science'"
      ]
     },
     "execution_count": 1,
     "metadata": {},
     "output_type": "execute_result"
    }
   ],
   "source": [
    "import os\n",
    "os.getcwd()"
   ]
  },
  {
   "cell_type": "markdown",
   "metadata": {},
   "source": [
    "# All stocks: "
   ]
  },
  {
   "cell_type": "code",
   "execution_count": 1,
   "metadata": {},
   "outputs": [
    {
     "data": {
      "text/plain": [
       "['ACC',\n",
       " 'AMARAJABAT',\n",
       " 'AMBUJACEM',\n",
       " 'APOLLOTYRE',\n",
       " 'ASIANPAINT',\n",
       " 'AUROPHARMA',\n",
       " 'AXISBANK',\n",
       " 'BAJAJ-AUTO',\n",
       " 'BAJAJFINSV',\n",
       " 'BAJFINANCE',\n",
       " 'BALKRISIND',\n",
       " 'BANKBARODA',\n",
       " 'BATAINDIA',\n",
       " 'BEL',\n",
       " 'BERGEPAINT',\n",
       " 'BHARATFORG',\n",
       " 'BIOCON',\n",
       " 'BOSCHLTD',\n",
       " 'BPCL',\n",
       " 'BRITANNIA',\n",
       " 'CADILAHC',\n",
       " 'CANBK',\n",
       " 'CASTROLIND',\n",
       " 'CENTURYTEX',\n",
       " 'CESC',\n",
       " 'CHOLAFIN',\n",
       " 'CIPLA',\n",
       " 'COALINDIA',\n",
       " 'COLPAL',\n",
       " 'CONCOR',\n",
       " 'CUMMINSIND',\n",
       " 'DABUR',\n",
       " 'EICHERMOT',\n",
       " 'ENGINERSIN',\n",
       " 'ESCORTS',\n",
       " 'EXIDEIND',\n",
       " 'FEDERALBNK',\n",
       " 'GLENMARK',\n",
       " 'GODREJCP',\n",
       " 'GRASIM',\n",
       " 'HAVELLS',\n",
       " 'HCLTECH',\n",
       " 'HDFC',\n",
       " 'HDFCBANK',\n",
       " 'HEROMOTOCO',\n",
       " 'HEXAWARE',\n",
       " 'HINDALCO',\n",
       " 'HINDUNILVR',\n",
       " 'HINDZINC',\n",
       " 'ICICIBANK',\n",
       " 'IGL',\n",
       " 'INDUSINDBK',\n",
       " 'INFRATEL',\n",
       " 'INFY',\n",
       " 'ITC',\n",
       " 'JSWSTEEL',\n",
       " 'KAJARIACER',\n",
       " 'KOTAKBANK',\n",
       " 'LICHSGFIN',\n",
       " 'LT',\n",
       " 'LUPIN',\n",
       " 'M&M',\n",
       " 'MANAPPURAM',\n",
       " 'MARICO',\n",
       " 'MARUTI',\n",
       " 'MCDOWELL-N',\n",
       " 'MCX',\n",
       " 'MFSL',\n",
       " 'MGL',\n",
       " 'MINDTREE',\n",
       " 'MRF',\n",
       " 'MUTHOOTFIN',\n",
       " 'NATIONALUM',\n",
       " 'NBCC',\n",
       " 'NCC',\n",
       " 'NESTLEIND',\n",
       " 'NIITTECH',\n",
       " 'NMDC',\n",
       " 'NTPC',\n",
       " 'OFSS',\n",
       " 'OIL',\n",
       " 'ONGC',\n",
       " 'PEL',\n",
       " 'PETRONET',\n",
       " 'PIDILITIND',\n",
       " 'POWERGRID',\n",
       " 'PVR',\n",
       " 'RAMCOCEM',\n",
       " 'RAYMOND',\n",
       " 'RECLTD',\n",
       " 'RELIANCE',\n",
       " 'SAIL',\n",
       " 'SBIN',\n",
       " 'SHREECEM',\n",
       " 'SIEMENS',\n",
       " 'TATACHEM',\n",
       " 'TATAELXSI',\n",
       " 'TATAGLOBAL',\n",
       " 'TATAPOWER',\n",
       " 'TATASTEEL',\n",
       " 'TCS',\n",
       " 'TECHM',\n",
       " 'TORNTPHARM',\n",
       " 'TORNTPOWER',\n",
       " 'TVSMOTOR',\n",
       " 'UBL',\n",
       " 'ULTRACEMCO',\n",
       " 'UPL',\n",
       " 'VOLTAS',\n",
       " 'WIPRO']"
      ]
     },
     "execution_count": 1,
     "metadata": {},
     "output_type": "execute_result"
    }
   ],
   "source": [
    "#Load the dataframe \n",
    "import numpy as np\n",
    "import pandas as pd\n",
    "import requests\n",
    "import re\n",
    "import pandas as pd\n",
    "from bs4 import BeautifulSoup\n",
    "Base_url=(\"https://zerodha.com/margin-calculator/Equity/\")\n",
    "page=requests.get(Base_url)\n",
    "soup=BeautifulSoup(page.content,'html.parser')\n",
    "data = []\n",
    "table = soup.find('table', attrs={'class':'data equity'})\n",
    "table_body = table.find('tbody')\n",
    "\n",
    "rows = soup.find_all('tr')\n",
    "for row in rows:\n",
    "    cols = row.find_all('td')\n",
    "    cols = [ele.text.strip() for ele in cols]\n",
    "    data.append([ele for ele in cols if ele]) # Get rid of empty values\n",
    "\n",
    "df = pd.DataFrame(data = data)\n",
    "\n",
    "\n",
    "\n",
    "\n",
    "\n",
    "#LIST COMPREHESNION\n",
    "company_symbol = []\n",
    "[company_symbol.append(df.loc[i][1][:-3:]) for i in range(len(df)) if df.loc[i][3] == \"12.5x\"]\n",
    "company_symbol"
   ]
  },
  {
   "cell_type": "code",
   "execution_count": 2,
   "metadata": {},
   "outputs": [
    {
     "data": {
      "text/plain": [
       "['ACC',\n",
       " 'AMARAJABAT',\n",
       " 'AMBUJACEM',\n",
       " 'APOLLOTYRE',\n",
       " 'ASIANPAINT',\n",
       " 'AUROPHARMA',\n",
       " 'AXISBANK',\n",
       " 'BAJAJ-AUTO',\n",
       " 'BAJAJFINSV',\n",
       " 'BAJFINANCE']"
      ]
     },
     "execution_count": 2,
     "metadata": {},
     "output_type": "execute_result"
    }
   ],
   "source": [
    "company_symbol[:10]  "
   ]
  },
  {
   "cell_type": "code",
   "execution_count": 8,
   "metadata": {},
   "outputs": [],
   "source": [
    "b=[]\n",
    "def job_function2():\n",
    "    import pandas as pd\n",
    "    import numpy as np\n",
    "    import datetime\n",
    "    import time\n",
    "    import subprocess\n",
    "    baseURL='https://www.nseindia.com/live_market/dynaContent/live_watch/get_quote/GetQuote.jsp?symbol='\n",
    "    symbol_list = []\n",
    "    buy_list = []\n",
    "    sell_list = []\n",
    "    lastP_list = []\n",
    "    for i in company_symbol[:10]:\n",
    "        textfile = subprocess.check_output(['curl','-o',i+'.txt','-O', baseURL+i])\n",
    "        f = open(i+\".txt\",\"r\")\n",
    "        file = str(f.read())\n",
    "        beg = file.find('[{')\n",
    "        end = file.find('}]')\n",
    "        trial = file[beg+1:end+1]\n",
    "        trial = trial.replace('false','\"false\"').replace('true','\"true\"')\n",
    "        trial = eval(trial)  \n",
    "        symbol_list.append(trial[\"symbol\"])\n",
    "        buy_list.append(trial[\"totalBuyQuantity\"])\n",
    "        sell_list.append(trial[\"totalSellQuantity\"])\n",
    "        lastP_list.append(trial[\"lastPrice\"])\n",
    "\n",
    "    global count, scheduler\n",
    "\n",
    "    df[\"symbol\"] = symbol_list\n",
    "    df[\"buy\"] = buy_list\n",
    "    df[\"sell\"] = sell_list\n",
    "    df[\"lastP\"] = lastP_list\n",
    "\n",
    "    #df = pd.DataFrame({\"symbol\":,\"buy\":[trial[\"totalBuyQuantity\"]],\"sell\":[trial[\"totalSellQuantity\"]],\"lastP\":[trial[\"lastPrice\"]]})\n",
    "    df['sell']=[x.replace('-','0').replace(',','') for x in df['sell']]\n",
    "    df['buy']=[x.replace('-','0').replace(',','') for x in df['buy']]\n",
    "    currentDT = datetime.datetime.now()\n",
    "    df['time']=currentDT.strftime(\"%H:%M\")\n",
    "    if count==0:\n",
    "        df[\"bs\"+str(count)] = np.where(df[\"sell\"]>=df[\"buy\"],\"S\",\"B\")\n",
    "    else:\n",
    "        df[\"bs\"+str(count)] = np.where(df[\"sell\"]>=df[\"buy\"],\"S\",\"B\")\n",
    "        result[\"bs\"+str(count)] = np.where(df[\"bs\"+str(count)]==df[\"bs\"+str(count-1)],\"S\",df[\"symbol\"]+df[\"time\"])\n",
    "        \n",
    "    df[\"size\"] = [\"S\" if float(df.loc[i][\"sell\"])>float(df.loc[i][\"buy\"]) else \"B\" for i in range(10)]\n",
    "    \n",
    "    df[\"times_greater\"] = [float(df.loc[i][\"sell\"])/float(df.loc[i][\"buy\"]) if df.loc[i][\"size\"]==\"S\" else float(df.loc[i][\"buy\"])/float(df.loc[i][\"sell\"]) for i in range(10)]\n",
    "\n",
    "    df.to_csv(\"all\"+str(count)+\".csv\")\n",
    "    \n",
    "    count+=1\n",
    "\n",
    "    if count==20:\n",
    "        scheduler.shutdown(wait = False)\n",
    "    b=buy_list"
   ]
  },
  {
   "cell_type": "code",
   "execution_count": 4,
   "metadata": {},
   "outputs": [],
   "source": [
    "from datetime import datetime\n",
    "from apscheduler.schedulers.background import BackgroundScheduler\n",
    "count = 0\n",
    "df = pd.DataFrame(columns = [\"symbol\",\"buy\",\"sell\",\"size\",\"times_greater\",\"lastP\",\"time\"]) \n",
    "result = pd.DataFrame(columns = [\"symbol\"])\n",
    "scheduler = BackgroundScheduler()\n",
    "\n",
    "scheduler.add_job(job_function2, 'interval', minutes = 2, start_date='2019-08-13 10:55:00', end_date='2019-08-13 11:05:00', id='my_job_id')\n",
    "\n",
    "try:\n",
    "    scheduler.start()\n",
    "except apscheduler.schedulers.SchedulerNotRunningError as e:\n",
    "    print('program exited')"
   ]
  },
  {
   "cell_type": "code",
   "execution_count": 5,
   "metadata": {},
   "outputs": [
    {
     "data": {
      "text/html": [
       "<div>\n",
       "<style scoped>\n",
       "    .dataframe tbody tr th:only-of-type {\n",
       "        vertical-align: middle;\n",
       "    }\n",
       "\n",
       "    .dataframe tbody tr th {\n",
       "        vertical-align: top;\n",
       "    }\n",
       "\n",
       "    .dataframe thead th {\n",
       "        text-align: right;\n",
       "    }\n",
       "</style>\n",
       "<table border=\"1\" class=\"dataframe\">\n",
       "  <thead>\n",
       "    <tr style=\"text-align: right;\">\n",
       "      <th></th>\n",
       "      <th>symbol</th>\n",
       "      <th>buy</th>\n",
       "      <th>sell</th>\n",
       "      <th>size</th>\n",
       "      <th>times_greater</th>\n",
       "      <th>lastP</th>\n",
       "      <th>time</th>\n",
       "    </tr>\n",
       "  </thead>\n",
       "  <tbody>\n",
       "  </tbody>\n",
       "</table>\n",
       "</div>"
      ],
      "text/plain": [
       "Empty DataFrame\n",
       "Columns: [symbol, buy, sell, size, times_greater, lastP, time]\n",
       "Index: []"
      ]
     },
     "execution_count": 5,
     "metadata": {},
     "output_type": "execute_result"
    }
   ],
   "source": [
    "df"
   ]
  },
  {
   "cell_type": "code",
   "execution_count": 9,
   "metadata": {},
   "outputs": [
    {
     "data": {
      "text/plain": [
       "[]"
      ]
     },
     "execution_count": 9,
     "metadata": {},
     "output_type": "execute_result"
    }
   ],
   "source": [
    "b"
   ]
  },
  {
   "cell_type": "code",
   "execution_count": null,
   "metadata": {},
   "outputs": [],
   "source": []
  }
 ],
 "metadata": {
  "kernelspec": {
   "display_name": "Python 3",
   "language": "python",
   "name": "python3"
  },
  "language_info": {
   "codemirror_mode": {
    "name": "ipython",
    "version": 3
   },
   "file_extension": ".py",
   "mimetype": "text/x-python",
   "name": "python",
   "nbconvert_exporter": "python",
   "pygments_lexer": "ipython3",
   "version": "3.7.1"
  }
 },
 "nbformat": 4,
 "nbformat_minor": 2
}
