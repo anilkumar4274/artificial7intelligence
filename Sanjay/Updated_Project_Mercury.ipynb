{
 "cells": [
  {
   "cell_type": "markdown",
   "metadata": {},
   "source": [
    "# As of 16/08/2019: "
   ]
  },
  {
   "cell_type": "markdown",
   "metadata": {},
   "source": [
    "### Step 1: Install nsetools "
   ]
  },
  {
   "cell_type": "code",
   "execution_count": 1,
   "metadata": {},
   "outputs": [
    {
     "name": "stdout",
     "output_type": "stream",
     "text": [
      "Collecting nsetools\n",
      "  Downloading https://files.pythonhosted.org/packages/d2/37/1a4443208b73484e35ddaf952678c211decffe211ef8f428b2b496fef52e/nsetools-1.0.10.tar.gz\n",
      "Requirement already satisfied: six in c:\\users\\mahe\\anaconda3\\lib\\site-packages (from nsetools) (1.12.0)\n",
      "Collecting dateutils (from nsetools)\n",
      "  Downloading https://files.pythonhosted.org/packages/5b/11/246237ce2a1dd87ffebef0e430033f877b31dd208b281914d4fd3c531ee7/dateutils-0.6.6.tar.gz\n",
      "Collecting argparse (from dateutils->nsetools)\n",
      "  Downloading https://files.pythonhosted.org/packages/f2/94/3af39d34be01a24a6e65433d19e107099374224905f1e0cc6bbe1fd22a2f/argparse-1.4.0-py2.py3-none-any.whl\n",
      "Requirement already satisfied: python-dateutil in c:\\users\\mahe\\anaconda3\\lib\\site-packages (from dateutils->nsetools) (2.8.0)\n",
      "Requirement already satisfied: pytz in c:\\users\\mahe\\anaconda3\\lib\\site-packages (from dateutils->nsetools) (2018.9)\n",
      "Building wheels for collected packages: nsetools, dateutils\n",
      "  Building wheel for nsetools (setup.py): started\n",
      "  Building wheel for nsetools (setup.py): finished with status 'done'\n",
      "  Stored in directory: C:\\Users\\MAHE\\AppData\\Local\\pip\\Cache\\wheels\\1d\\0e\\fa\\5411606dd2896153f6a25c92557e0669fcb461d350e2c083ec\n",
      "  Building wheel for dateutils (setup.py): started\n",
      "  Building wheel for dateutils (setup.py): finished with status 'done'\n",
      "  Stored in directory: C:\\Users\\MAHE\\AppData\\Local\\pip\\Cache\\wheels\\59\\7f\\14\\021981e24cc37ca796f08be16f554c0de9b4922a1c41a2ba05\n",
      "Successfully built nsetools dateutils\n",
      "Installing collected packages: argparse, dateutils, nsetools\n",
      "Successfully installed argparse-1.4.0 dateutils-0.6.6 nsetools-1.0.10\n"
     ]
    }
   ],
   "source": [
    "!pip install nsetools"
   ]
  },
  {
   "cell_type": "markdown",
   "metadata": {},
   "source": [
    "### Step2: Visit this url: "
   ]
  },
  {
   "cell_type": "markdown",
   "metadata": {},
   "source": [
    "\"C:/Users/your_username/Anaconda3/Lib/site-packages/nsetools/\""
   ]
  },
  {
   "cell_type": "markdown",
   "metadata": {},
   "source": [
    "### Step3: Run this command: "
   ]
  },
  {
   "cell_type": "code",
   "execution_count": 4,
   "metadata": {},
   "outputs": [
    {
     "name": "stdout",
     "output_type": "stream",
     "text": [
      "Collecting bsetools\n",
      "  Downloading https://files.pythonhosted.org/packages/f6/bc/be420e00bd695b05e360c3261364ab7bb2b45cbf5d9c9d36e0738e5f3ab1/bsetools-0.3.3.zip\n",
      "Requirement already satisfied: beautifulsoup4 in c:\\users\\mahe\\anaconda3\\lib\\site-packages (from bsetools) (4.7.1)\n",
      "Collecting Google-Search-API (from bsetools)\n",
      "  Downloading https://files.pythonhosted.org/packages/ca/83/452b9feb69c0ab644e154996e98a180d022e586c397c3e60d823cc2ba6ec/Google_Search_API-1.1.14-py3-none-any.whl\n",
      "Requirement already satisfied: selenium in c:\\users\\mahe\\anaconda3\\lib\\site-packages (from bsetools) (3.141.0)\n",
      "Requirement already satisfied: soupsieve>=1.2 in c:\\users\\mahe\\anaconda3\\lib\\site-packages (from beautifulsoup4->bsetools) (1.8)\n",
      "Requirement already satisfied: future in c:\\users\\mahe\\anaconda3\\lib\\site-packages (from Google-Search-API->bsetools) (0.17.1)\n",
      "Collecting fake-useragent (from Google-Search-API->bsetools)\n",
      "  Downloading https://files.pythonhosted.org/packages/d1/79/af647635d6968e2deb57a208d309f6069d31cb138066d7e821e575112a80/fake-useragent-0.1.11.tar.gz\n",
      "Requirement already satisfied: requests in c:\\users\\mahe\\anaconda3\\lib\\site-packages (from Google-Search-API->bsetools) (2.21.0)\n",
      "Collecting unidecode (from Google-Search-API->bsetools)\n",
      "  Downloading https://files.pythonhosted.org/packages/d0/42/d9edfed04228bacea2d824904cae367ee9efd05e6cce7ceaaedd0b0ad964/Unidecode-1.1.1-py2.py3-none-any.whl (238kB)\n",
      "Collecting vcrpy (from Google-Search-API->bsetools)\n",
      "  Downloading https://files.pythonhosted.org/packages/e5/77/c2549e2b5cfbf77a29a8d071955676dbe5e57bac7d1189be30f67c33db3a/vcrpy-2.1.0-py2.py3-none-any.whl\n",
      "Requirement already satisfied: urllib3 in c:\\users\\mahe\\anaconda3\\lib\\site-packages (from selenium->bsetools) (1.24.1)\n",
      "Requirement already satisfied: idna<2.9,>=2.5 in c:\\users\\mahe\\anaconda3\\lib\\site-packages (from requests->Google-Search-API->bsetools) (2.8)\n",
      "Requirement already satisfied: chardet<3.1.0,>=3.0.2 in c:\\users\\mahe\\anaconda3\\lib\\site-packages (from requests->Google-Search-API->bsetools) (3.0.4)\n",
      "Requirement already satisfied: certifi>=2017.4.17 in c:\\users\\mahe\\anaconda3\\lib\\site-packages (from requests->Google-Search-API->bsetools) (2019.3.9)\n",
      "Requirement already satisfied: six>=1.5 in c:\\users\\mahe\\anaconda3\\lib\\site-packages (from vcrpy->Google-Search-API->bsetools) (1.12.0)\n",
      "Collecting yarl; python_version >= \"3.5\" (from vcrpy->Google-Search-API->bsetools)\n",
      "  Downloading https://files.pythonhosted.org/packages/7d/dc/fb3617b3de980566b54b1ae59eb72fc72810350d7ed9164b26f155fa682d/yarl-1.3.0-cp37-cp37m-win_amd64.whl (121kB)\n",
      "Requirement already satisfied: wrapt in c:\\users\\mahe\\anaconda3\\lib\\site-packages (from vcrpy->Google-Search-API->bsetools) (1.11.1)\n",
      "Requirement already satisfied: PyYAML in c:\\users\\mahe\\anaconda3\\lib\\site-packages (from vcrpy->Google-Search-API->bsetools) (5.1)\n",
      "Collecting multidict>=4.0 (from yarl; python_version >= \"3.5\"->vcrpy->Google-Search-API->bsetools)\n",
      "  Downloading https://files.pythonhosted.org/packages/38/c7/07d8d88c3c16fe65d8596da429d104229dd7433b07432694a3ab45a72eaa/multidict-4.5.2-cp37-cp37m-win_amd64.whl (138kB)\n",
      "Building wheels for collected packages: bsetools, fake-useragent\n",
      "  Building wheel for bsetools (setup.py): started\n",
      "  Building wheel for bsetools (setup.py): finished with status 'done'\n",
      "  Stored in directory: C:\\Users\\MAHE\\AppData\\Local\\pip\\Cache\\wheels\\8e\\ab\\0d\\032d65ce692af789c23c159d2cd13ee58adaead8ab77aec01d\n",
      "  Building wheel for fake-useragent (setup.py): started\n",
      "  Building wheel for fake-useragent (setup.py): finished with status 'done'\n",
      "  Stored in directory: C:\\Users\\MAHE\\AppData\\Local\\pip\\Cache\\wheels\\5e\\63\\09\\d1dc15179f175357d3f5c00cbffbac37f9e8690d80545143ff\n",
      "Successfully built bsetools fake-useragent\n",
      "Installing collected packages: fake-useragent, unidecode, multidict, yarl, vcrpy, Google-Search-API, bsetools\n",
      "Successfully installed Google-Search-API-1.1.14 bsetools-0.3.3 fake-useragent-0.1.11 multidict-4.5.2 unidecode-1.1.1 vcrpy-2.1.0 yarl-1.3.0\n"
     ]
    },
    {
     "name": "stderr",
     "output_type": "stream",
     "text": [
      "google-search-api 1.1.14 has requirement selenium<3.0.0,>=2.44.0, but you'll have selenium 3.141.0 which is incompatible.\n"
     ]
    }
   ],
   "source": [
    "!pip install bsetools"
   ]
  },
  {
   "cell_type": "markdown",
   "metadata": {},
   "source": [
    "### Step4: Only for Sonata s/w from bsetools "
   ]
  },
  {
   "cell_type": "code",
   "execution_count": 9,
   "metadata": {},
   "outputs": [
    {
     "name": "stdout",
     "output_type": "stream",
     "text": [
      "Collecting bsedata\n",
      "  Downloading https://files.pythonhosted.org/packages/6b/f8/c4b24d9f501e78c61ce85d509e03ff1f8cb983b69e3dcb1e34776dc2a038/bsedata-0.3.1-py3-none-any.whl\n",
      "Requirement already satisfied: beautifulsoup4 in c:\\users\\mahe\\anaconda3\\lib\\site-packages (from bsedata) (4.7.1)\n",
      "Requirement already satisfied: requests in c:\\users\\mahe\\anaconda3\\lib\\site-packages (from bsedata) (2.21.0)\n",
      "Requirement already satisfied: soupsieve>=1.2 in c:\\users\\mahe\\anaconda3\\lib\\site-packages (from beautifulsoup4->bsedata) (1.8)\n",
      "Requirement already satisfied: idna<2.9,>=2.5 in c:\\users\\mahe\\anaconda3\\lib\\site-packages (from requests->bsedata) (2.8)\n",
      "Requirement already satisfied: certifi>=2017.4.17 in c:\\users\\mahe\\anaconda3\\lib\\site-packages (from requests->bsedata) (2019.3.9)\n",
      "Requirement already satisfied: chardet<3.1.0,>=3.0.2 in c:\\users\\mahe\\anaconda3\\lib\\site-packages (from requests->bsedata) (3.0.4)\n",
      "Requirement already satisfied: urllib3<1.25,>=1.21.1 in c:\\users\\mahe\\anaconda3\\lib\\site-packages (from requests->bsedata) (1.24.1)\n",
      "Installing collected packages: bsedata\n",
      "Successfully installed bsedata-0.3.1\n"
     ]
    }
   ],
   "source": [
    "!pip install bsedata"
   ]
  },
  {
   "cell_type": "code",
   "execution_count": 10,
   "metadata": {},
   "outputs": [],
   "source": [
    "from bsedata.bse import BSE"
   ]
  },
  {
   "cell_type": "code",
   "execution_count": 11,
   "metadata": {},
   "outputs": [],
   "source": [
    "stock = BSE()"
   ]
  },
  {
   "cell_type": "code",
   "execution_count": 12,
   "metadata": {},
   "outputs": [
    {
     "data": {
      "text/plain": [
       "{'price': '0.00', 'quantity': '-'}"
      ]
     },
     "execution_count": 12,
     "metadata": {},
     "output_type": "execute_result"
    }
   ],
   "source": [
    "stock.getQuote('532221')['buy']['5']\n",
    "stock.getQuote('532221')['sell']['5']"
   ]
  },
  {
   "cell_type": "markdown",
   "metadata": {},
   "source": [
    "### Step5: Go through this code: "
   ]
  },
  {
   "cell_type": "code",
   "execution_count": 13,
   "metadata": {},
   "outputs": [
    {
     "data": {
      "text/html": [
       "<div>\n",
       "<style scoped>\n",
       "    .dataframe tbody tr th:only-of-type {\n",
       "        vertical-align: middle;\n",
       "    }\n",
       "\n",
       "    .dataframe tbody tr th {\n",
       "        vertical-align: top;\n",
       "    }\n",
       "\n",
       "    .dataframe thead th {\n",
       "        text-align: right;\n",
       "    }\n",
       "</style>\n",
       "<table border=\"1\" class=\"dataframe\">\n",
       "  <thead>\n",
       "    <tr style=\"text-align: right;\">\n",
       "      <th></th>\n",
       "      <th>#</th>\n",
       "      <th>Scrip</th>\n",
       "      <th>CNC Multiplier</th>\n",
       "      <th>MIS Multiplier</th>\n",
       "      <th>Unnamed: 4</th>\n",
       "    </tr>\n",
       "  </thead>\n",
       "  <tbody>\n",
       "    <tr>\n",
       "      <th>0</th>\n",
       "      <td>1</td>\n",
       "      <td>3MINDIA:EQ</td>\n",
       "      <td>1x</td>\n",
       "      <td>3x</td>\n",
       "      <td>Calculate</td>\n",
       "    </tr>\n",
       "    <tr>\n",
       "      <th>1</th>\n",
       "      <td>2</td>\n",
       "      <td>AARTIIND:EQ</td>\n",
       "      <td>1x</td>\n",
       "      <td>3x</td>\n",
       "      <td>Calculate</td>\n",
       "    </tr>\n",
       "    <tr>\n",
       "      <th>2</th>\n",
       "      <td>3</td>\n",
       "      <td>ABB:EQ</td>\n",
       "      <td>1x</td>\n",
       "      <td>3x</td>\n",
       "      <td>Calculate</td>\n",
       "    </tr>\n",
       "    <tr>\n",
       "      <th>3</th>\n",
       "      <td>4</td>\n",
       "      <td>ABFRL:EQ</td>\n",
       "      <td>1x</td>\n",
       "      <td>3x</td>\n",
       "      <td>Calculate</td>\n",
       "    </tr>\n",
       "    <tr>\n",
       "      <th>4</th>\n",
       "      <td>5</td>\n",
       "      <td>ACC:EQ</td>\n",
       "      <td>1x</td>\n",
       "      <td>12.5x</td>\n",
       "      <td>Calculate</td>\n",
       "    </tr>\n",
       "  </tbody>\n",
       "</table>\n",
       "</div>"
      ],
      "text/plain": [
       "   #        Scrip CNC Multiplier MIS Multiplier Unnamed: 4\n",
       "0  1   3MINDIA:EQ             1x             3x  Calculate\n",
       "1  2  AARTIIND:EQ             1x             3x  Calculate\n",
       "2  3       ABB:EQ             1x             3x  Calculate\n",
       "3  4     ABFRL:EQ             1x             3x  Calculate\n",
       "4  5       ACC:EQ             1x          12.5x  Calculate"
      ]
     },
     "execution_count": 13,
     "metadata": {},
     "output_type": "execute_result"
    }
   ],
   "source": [
    "import requests\n",
    "import pandas as pd\n",
    "\n",
    "url=\"https://zerodha.com/margin-calculator/Equity/\"\n",
    "html=requests.get(url).content\n",
    "df_list=pd.read_html(html)\n",
    "df1=df_list[0]\n",
    "df=df_list[1]\n",
    "df.columns=df1.columns\n",
    "df.head()"
   ]
  },
  {
   "cell_type": "code",
   "execution_count": 17,
   "metadata": {},
   "outputs": [
    {
     "data": {
      "text/html": [
       "<div>\n",
       "<style scoped>\n",
       "    .dataframe tbody tr th:only-of-type {\n",
       "        vertical-align: middle;\n",
       "    }\n",
       "\n",
       "    .dataframe tbody tr th {\n",
       "        vertical-align: top;\n",
       "    }\n",
       "\n",
       "    .dataframe thead th {\n",
       "        text-align: right;\n",
       "    }\n",
       "</style>\n",
       "<table border=\"1\" class=\"dataframe\">\n",
       "  <thead>\n",
       "    <tr style=\"text-align: right;\">\n",
       "      <th></th>\n",
       "      <th>#</th>\n",
       "      <th>Scrip</th>\n",
       "      <th>CNC Multiplier</th>\n",
       "      <th>MIS Multiplier</th>\n",
       "      <th>Unnamed: 4</th>\n",
       "    </tr>\n",
       "  </thead>\n",
       "  <tbody>\n",
       "    <tr>\n",
       "      <th>438</th>\n",
       "      <td>439</td>\n",
       "      <td>WIPRO:EQ</td>\n",
       "      <td>1x</td>\n",
       "      <td>12.5x</td>\n",
       "      <td>Calculate</td>\n",
       "    </tr>\n",
       "    <tr>\n",
       "      <th>439</th>\n",
       "      <td>440</td>\n",
       "      <td>WOCKPHARMA:EQ</td>\n",
       "      <td>1x</td>\n",
       "      <td>3x</td>\n",
       "      <td>Calculate</td>\n",
       "    </tr>\n",
       "    <tr>\n",
       "      <th>440</th>\n",
       "      <td>441</td>\n",
       "      <td>WONDERLA:EQ</td>\n",
       "      <td>1x</td>\n",
       "      <td>3x</td>\n",
       "      <td>Calculate</td>\n",
       "    </tr>\n",
       "    <tr>\n",
       "      <th>441</th>\n",
       "      <td>442</td>\n",
       "      <td>YESBANK:EQ</td>\n",
       "      <td>1x</td>\n",
       "      <td>3x</td>\n",
       "      <td>Calculate</td>\n",
       "    </tr>\n",
       "    <tr>\n",
       "      <th>442</th>\n",
       "      <td>443</td>\n",
       "      <td>ZEEL:EQ</td>\n",
       "      <td>1x</td>\n",
       "      <td>5x</td>\n",
       "      <td>Calculate</td>\n",
       "    </tr>\n",
       "  </tbody>\n",
       "</table>\n",
       "</div>"
      ],
      "text/plain": [
       "       #          Scrip CNC Multiplier MIS Multiplier Unnamed: 4\n",
       "438  439       WIPRO:EQ             1x          12.5x  Calculate\n",
       "439  440  WOCKPHARMA:EQ             1x             3x  Calculate\n",
       "440  441    WONDERLA:EQ             1x             3x  Calculate\n",
       "441  442     YESBANK:EQ             1x             3x  Calculate\n",
       "442  443        ZEEL:EQ             1x             5x  Calculate"
      ]
     },
     "execution_count": 17,
     "metadata": {},
     "output_type": "execute_result"
    }
   ],
   "source": [
    "df.tail()"
   ]
  },
  {
   "cell_type": "code",
   "execution_count": 16,
   "metadata": {},
   "outputs": [
    {
     "data": {
      "text/plain": [
       "443"
      ]
     },
     "execution_count": 16,
     "metadata": {},
     "output_type": "execute_result"
    }
   ],
   "source": [
    "len(df)"
   ]
  },
  {
   "cell_type": "markdown",
   "metadata": {},
   "source": [
    "### Step6: Convert the bsestocks.txt file into a csv file: "
   ]
  },
  {
   "cell_type": "code",
   "execution_count": 19,
   "metadata": {},
   "outputs": [
    {
     "data": {
      "text/html": [
       "<div>\n",
       "<style scoped>\n",
       "    .dataframe tbody tr th:only-of-type {\n",
       "        vertical-align: middle;\n",
       "    }\n",
       "\n",
       "    .dataframe tbody tr th {\n",
       "        vertical-align: top;\n",
       "    }\n",
       "\n",
       "    .dataframe thead th {\n",
       "        text-align: right;\n",
       "    }\n",
       "</style>\n",
       "<table border=\"1\" class=\"dataframe\">\n",
       "  <thead>\n",
       "    <tr style=\"text-align: right;\">\n",
       "      <th></th>\n",
       "      <th>STOCK</th>\n",
       "      <th>CODE</th>\n",
       "    </tr>\n",
       "  </thead>\n",
       "  <tbody>\n",
       "    <tr>\n",
       "      <th>0</th>\n",
       "      <td>20 Microns Ltd</td>\n",
       "      <td>533022</td>\n",
       "    </tr>\n",
       "    <tr>\n",
       "      <th>1</th>\n",
       "      <td>3i Infotech Ltd</td>\n",
       "      <td>532628</td>\n",
       "    </tr>\n",
       "    <tr>\n",
       "      <th>2</th>\n",
       "      <td>3m India Ltd</td>\n",
       "      <td>523395</td>\n",
       "    </tr>\n",
       "    <tr>\n",
       "      <th>3</th>\n",
       "      <td>7seas Technologies Ltd</td>\n",
       "      <td>590116</td>\n",
       "    </tr>\n",
       "    <tr>\n",
       "      <th>4</th>\n",
       "      <td>8k Miles Software Services Ltd</td>\n",
       "      <td>512161</td>\n",
       "    </tr>\n",
       "  </tbody>\n",
       "</table>\n",
       "</div>"
      ],
      "text/plain": [
       "                             STOCK     CODE\n",
       "0                  20 Microns Ltd    533022\n",
       "1                 3i Infotech Ltd    532628\n",
       "2                    3m India Ltd    523395\n",
       "3       7seas Technologies Ltd       590116\n",
       "4  8k Miles Software Services Ltd    512161"
      ]
     },
     "execution_count": 19,
     "metadata": {},
     "output_type": "execute_result"
    }
   ],
   "source": [
    "bsestocks_df = pd.read_csv(\"C:/Users/MAHE/Desktop/Data Science/HYD/Projects/bsestocks.csv\",sep = \"|\")\n",
    "bsestocks_df.head()"
   ]
  },
  {
   "cell_type": "code",
   "execution_count": 20,
   "metadata": {},
   "outputs": [
    {
     "data": {
      "text/plain": [
       "4539"
      ]
     },
     "execution_count": 20,
     "metadata": {},
     "output_type": "execute_result"
    }
   ],
   "source": [
    "len(bsestocks_df)"
   ]
  },
  {
   "cell_type": "markdown",
   "metadata": {},
   "source": [
    "### Step7: Find the common company names b/w df and bsestocks_df: "
   ]
  },
  {
   "cell_type": "code",
   "execution_count": 26,
   "metadata": {},
   "outputs": [
    {
     "data": {
      "text/plain": [
       "'3MINDIA'"
      ]
     },
     "execution_count": 26,
     "metadata": {},
     "output_type": "execute_result"
    }
   ],
   "source": [
    "df[\"Scrip\"][0][:-3:]"
   ]
  },
  {
   "cell_type": "code",
   "execution_count": 28,
   "metadata": {},
   "outputs": [
    {
     "name": "stderr",
     "output_type": "stream",
     "text": [
      "C:\\Users\\MAHE\\Anaconda3\\lib\\site-packages\\ipykernel_launcher.py:2: SettingWithCopyWarning: \n",
      "A value is trying to be set on a copy of a slice from a DataFrame\n",
      "\n",
      "See the caveats in the documentation: http://pandas.pydata.org/pandas-docs/stable/indexing.html#indexing-view-versus-copy\n",
      "  \n"
     ]
    },
    {
     "data": {
      "text/html": [
       "<div>\n",
       "<style scoped>\n",
       "    .dataframe tbody tr th:only-of-type {\n",
       "        vertical-align: middle;\n",
       "    }\n",
       "\n",
       "    .dataframe tbody tr th {\n",
       "        vertical-align: top;\n",
       "    }\n",
       "\n",
       "    .dataframe thead th {\n",
       "        text-align: right;\n",
       "    }\n",
       "</style>\n",
       "<table border=\"1\" class=\"dataframe\">\n",
       "  <thead>\n",
       "    <tr style=\"text-align: right;\">\n",
       "      <th></th>\n",
       "      <th>#</th>\n",
       "      <th>Scrip</th>\n",
       "      <th>CNC Multiplier</th>\n",
       "      <th>MIS Multiplier</th>\n",
       "      <th>Unnamed: 4</th>\n",
       "    </tr>\n",
       "  </thead>\n",
       "  <tbody>\n",
       "    <tr>\n",
       "      <th>0</th>\n",
       "      <td>1</td>\n",
       "      <td>3MINDIA</td>\n",
       "      <td>1x</td>\n",
       "      <td>3x</td>\n",
       "      <td>Calculate</td>\n",
       "    </tr>\n",
       "    <tr>\n",
       "      <th>1</th>\n",
       "      <td>2</td>\n",
       "      <td>AARTIIND</td>\n",
       "      <td>1x</td>\n",
       "      <td>3x</td>\n",
       "      <td>Calculate</td>\n",
       "    </tr>\n",
       "    <tr>\n",
       "      <th>2</th>\n",
       "      <td>3</td>\n",
       "      <td>ABB</td>\n",
       "      <td>1x</td>\n",
       "      <td>3x</td>\n",
       "      <td>Calculate</td>\n",
       "    </tr>\n",
       "    <tr>\n",
       "      <th>3</th>\n",
       "      <td>4</td>\n",
       "      <td>ABFRL</td>\n",
       "      <td>1x</td>\n",
       "      <td>3x</td>\n",
       "      <td>Calculate</td>\n",
       "    </tr>\n",
       "    <tr>\n",
       "      <th>4</th>\n",
       "      <td>5</td>\n",
       "      <td>ACC</td>\n",
       "      <td>1x</td>\n",
       "      <td>12.5x</td>\n",
       "      <td>Calculate</td>\n",
       "    </tr>\n",
       "  </tbody>\n",
       "</table>\n",
       "</div>"
      ],
      "text/plain": [
       "   #     Scrip CNC Multiplier MIS Multiplier Unnamed: 4\n",
       "0  1   3MINDIA             1x             3x  Calculate\n",
       "1  2  AARTIIND             1x             3x  Calculate\n",
       "2  3       ABB             1x             3x  Calculate\n",
       "3  4     ABFRL             1x             3x  Calculate\n",
       "4  5       ACC             1x          12.5x  Calculate"
      ]
     },
     "execution_count": 28,
     "metadata": {},
     "output_type": "execute_result"
    }
   ],
   "source": [
    "for i in range(len(df)):\n",
    "    df[\"Scrip\"][i] = df[\"Scrip\"][i][:-3:]\n",
    "df.head()"
   ]
  },
  {
   "cell_type": "code",
   "execution_count": 33,
   "metadata": {},
   "outputs": [
    {
     "data": {
      "text/plain": [
       "'20 Microns'"
      ]
     },
     "execution_count": 33,
     "metadata": {},
     "output_type": "execute_result"
    }
   ],
   "source": [
    "str1 = str(bsestocks_df[\"STOCK\"][0][:-5:])\n",
    "str1"
   ]
  },
  {
   "cell_type": "code",
   "execution_count": 37,
   "metadata": {},
   "outputs": [
    {
     "data": {
      "text/plain": [
       "('20', ' ', 'Microns')"
      ]
     },
     "execution_count": 37,
     "metadata": {},
     "output_type": "execute_result"
    }
   ],
   "source": [
    "tup = str1.partition(\" \")\n",
    "tup"
   ]
  },
  {
   "cell_type": "code",
   "execution_count": 41,
   "metadata": {},
   "outputs": [
    {
     "data": {
      "text/plain": [
       "'20MICRONS'"
      ]
     },
     "execution_count": 41,
     "metadata": {},
     "output_type": "execute_result"
    }
   ],
   "source": [
    "str(str(tup[0])+str(tup[2])).upper()"
   ]
  },
  {
   "cell_type": "code",
   "execution_count": 44,
   "metadata": {},
   "outputs": [
    {
     "data": {
      "text/plain": [
       "'8k Miles Software Services'"
      ]
     },
     "execution_count": 44,
     "metadata": {},
     "output_type": "execute_result"
    }
   ],
   "source": [
    "str1 = str(bsestocks_df[\"STOCK\"][4][:-5:])\n",
    "str1"
   ]
  },
  {
   "cell_type": "code",
   "execution_count": 46,
   "metadata": {},
   "outputs": [
    {
     "data": {
      "text/plain": [
       "('8k', ' ', 'Miles Software Services')"
      ]
     },
     "execution_count": 46,
     "metadata": {},
     "output_type": "execute_result"
    }
   ],
   "source": [
    "tup = str1.partition(\" \")\n",
    "tup"
   ]
  },
  {
   "cell_type": "code",
   "execution_count": 47,
   "metadata": {},
   "outputs": [
    {
     "data": {
      "text/plain": [
       "'8KMILES SOFTWARE SERVICES'"
      ]
     },
     "execution_count": 47,
     "metadata": {},
     "output_type": "execute_result"
    }
   ],
   "source": [
    "str(str(tup[0])+str(tup[2])).upper()"
   ]
  },
  {
   "cell_type": "code",
   "execution_count": 48,
   "metadata": {},
   "outputs": [
    {
     "data": {
      "text/html": [
       "<div>\n",
       "<style scoped>\n",
       "    .dataframe tbody tr th:only-of-type {\n",
       "        vertical-align: middle;\n",
       "    }\n",
       "\n",
       "    .dataframe tbody tr th {\n",
       "        vertical-align: top;\n",
       "    }\n",
       "\n",
       "    .dataframe thead th {\n",
       "        text-align: right;\n",
       "    }\n",
       "</style>\n",
       "<table border=\"1\" class=\"dataframe\">\n",
       "  <thead>\n",
       "    <tr style=\"text-align: right;\">\n",
       "      <th></th>\n",
       "      <th>STOCK</th>\n",
       "      <th>CODE</th>\n",
       "    </tr>\n",
       "  </thead>\n",
       "  <tbody>\n",
       "    <tr>\n",
       "      <th>0</th>\n",
       "      <td>20MICRONS</td>\n",
       "      <td>533022</td>\n",
       "    </tr>\n",
       "    <tr>\n",
       "      <th>1</th>\n",
       "      <td>3IINFOTECH</td>\n",
       "      <td>532628</td>\n",
       "    </tr>\n",
       "    <tr>\n",
       "      <th>2</th>\n",
       "      <td>3MINDIA</td>\n",
       "      <td>523395</td>\n",
       "    </tr>\n",
       "    <tr>\n",
       "      <th>3</th>\n",
       "      <td>7SEASTECHNOLOGIES LT</td>\n",
       "      <td>590116</td>\n",
       "    </tr>\n",
       "    <tr>\n",
       "      <th>4</th>\n",
       "      <td>8KMILES SOFTWARE SERVICES</td>\n",
       "      <td>512161</td>\n",
       "    </tr>\n",
       "  </tbody>\n",
       "</table>\n",
       "</div>"
      ],
      "text/plain": [
       "                       STOCK     CODE\n",
       "0                  20MICRONS   533022\n",
       "1                 3IINFOTECH   532628\n",
       "2                    3MINDIA   523395\n",
       "3       7SEASTECHNOLOGIES LT   590116\n",
       "4  8KMILES SOFTWARE SERVICES   512161"
      ]
     },
     "execution_count": 48,
     "metadata": {},
     "output_type": "execute_result"
    }
   ],
   "source": [
    "for i in range(len(bsestocks_df)):\n",
    "    str1 = str(bsestocks_df[\"STOCK\"][i][:-5:])\n",
    "    tup = str1.partition(\" \")\n",
    "    bsestocks_df[\"STOCK\"][i] = str(str(tup[0])+str(tup[2])).upper()\n",
    "\n",
    "bsestocks_df.head()"
   ]
  },
  {
   "cell_type": "code",
   "execution_count": 60,
   "metadata": {},
   "outputs": [
    {
     "data": {
      "text/html": [
       "<div>\n",
       "<style scoped>\n",
       "    .dataframe tbody tr th:only-of-type {\n",
       "        vertical-align: middle;\n",
       "    }\n",
       "\n",
       "    .dataframe tbody tr th {\n",
       "        vertical-align: top;\n",
       "    }\n",
       "\n",
       "    .dataframe thead th {\n",
       "        text-align: right;\n",
       "    }\n",
       "</style>\n",
       "<table border=\"1\" class=\"dataframe\">\n",
       "  <thead>\n",
       "    <tr style=\"text-align: right;\">\n",
       "      <th></th>\n",
       "      <th>stock</th>\n",
       "      <th>code</th>\n",
       "    </tr>\n",
       "  </thead>\n",
       "  <tbody>\n",
       "  </tbody>\n",
       "</table>\n",
       "</div>"
      ],
      "text/plain": [
       "Empty DataFrame\n",
       "Columns: [stock, code]\n",
       "Index: []"
      ]
     },
     "execution_count": 60,
     "metadata": {},
     "output_type": "execute_result"
    }
   ],
   "source": [
    "res = pd.DataFrame(columns=[\"stock\",\"code\"])\n",
    "res"
   ]
  },
  {
   "cell_type": "code",
   "execution_count": 54,
   "metadata": {},
   "outputs": [
    {
     "name": "stdout",
     "output_type": "stream",
     "text": [
      "3MIN\n",
      "ABB\n"
     ]
    }
   ],
   "source": [
    "print(bsestocks_df[\"STOCK\"][2][:4:])\n",
    "print(df[\"Scrip\"][2][:4:])"
   ]
  },
  {
   "cell_type": "code",
   "execution_count": 100,
   "metadata": {},
   "outputs": [],
   "source": [
    "sl = []\n",
    "cl = []\n",
    "\n",
    "for i in range(len(df)):\n",
    "    for j in range(len(bsestocks_df)):\n",
    "        if df[\"Scrip\"][i][:4:]==bsestocks_df[\"STOCK\"][j][:4:]:\n",
    "            sl.append(df[\"Scrip\"][i])\n",
    "            cl.append(bsestocks_df[\"CODE\"][j])"
   ]
  },
  {
   "cell_type": "code",
   "execution_count": 101,
   "metadata": {
    "scrolled": true
   },
   "outputs": [],
   "source": [
    "res[\"stock\"] = sl\n",
    "res[\"code\"] = cl"
   ]
  },
  {
   "cell_type": "code",
   "execution_count": 102,
   "metadata": {},
   "outputs": [
    {
     "data": {
      "text/html": [
       "<div>\n",
       "<style scoped>\n",
       "    .dataframe tbody tr th:only-of-type {\n",
       "        vertical-align: middle;\n",
       "    }\n",
       "\n",
       "    .dataframe tbody tr th {\n",
       "        vertical-align: top;\n",
       "    }\n",
       "\n",
       "    .dataframe thead th {\n",
       "        text-align: right;\n",
       "    }\n",
       "</style>\n",
       "<table border=\"1\" class=\"dataframe\">\n",
       "  <thead>\n",
       "    <tr style=\"text-align: right;\">\n",
       "      <th></th>\n",
       "      <th>stock</th>\n",
       "      <th>code</th>\n",
       "    </tr>\n",
       "  </thead>\n",
       "  <tbody>\n",
       "    <tr>\n",
       "      <th>0</th>\n",
       "      <td>3MINDIA</td>\n",
       "      <td>523395</td>\n",
       "    </tr>\n",
       "    <tr>\n",
       "      <th>1</th>\n",
       "      <td>AARTIIND</td>\n",
       "      <td>524348</td>\n",
       "    </tr>\n",
       "    <tr>\n",
       "      <th>2</th>\n",
       "      <td>AARTIIND</td>\n",
       "      <td>524208</td>\n",
       "    </tr>\n",
       "    <tr>\n",
       "      <th>3</th>\n",
       "      <td>ACC</td>\n",
       "      <td>500410</td>\n",
       "    </tr>\n",
       "    <tr>\n",
       "      <th>4</th>\n",
       "      <td>ADANIENT</td>\n",
       "      <td>512599</td>\n",
       "    </tr>\n",
       "  </tbody>\n",
       "</table>\n",
       "</div>"
      ],
      "text/plain": [
       "      stock     code\n",
       "0   3MINDIA   523395\n",
       "1  AARTIIND   524348\n",
       "2  AARTIIND   524208\n",
       "3       ACC   500410\n",
       "4  ADANIENT   512599"
      ]
     },
     "execution_count": 102,
     "metadata": {},
     "output_type": "execute_result"
    }
   ],
   "source": [
    "res.head()"
   ]
  },
  {
   "cell_type": "code",
   "execution_count": 104,
   "metadata": {},
   "outputs": [
    {
     "data": {
      "text/html": [
       "<div>\n",
       "<style scoped>\n",
       "    .dataframe tbody tr th:only-of-type {\n",
       "        vertical-align: middle;\n",
       "    }\n",
       "\n",
       "    .dataframe tbody tr th {\n",
       "        vertical-align: top;\n",
       "    }\n",
       "\n",
       "    .dataframe thead th {\n",
       "        text-align: right;\n",
       "    }\n",
       "</style>\n",
       "<table border=\"1\" class=\"dataframe\">\n",
       "  <thead>\n",
       "    <tr style=\"text-align: right;\">\n",
       "      <th></th>\n",
       "      <th>stock</th>\n",
       "      <th>code</th>\n",
       "    </tr>\n",
       "  </thead>\n",
       "  <tbody>\n",
       "    <tr>\n",
       "      <th>1759</th>\n",
       "      <td>WIPRO</td>\n",
       "      <td>507685</td>\n",
       "    </tr>\n",
       "    <tr>\n",
       "      <th>1760</th>\n",
       "      <td>WOCKPHARMA</td>\n",
       "      <td>532300</td>\n",
       "    </tr>\n",
       "    <tr>\n",
       "      <th>1761</th>\n",
       "      <td>WONDERLA</td>\n",
       "      <td>538268</td>\n",
       "    </tr>\n",
       "    <tr>\n",
       "      <th>1762</th>\n",
       "      <td>YESBANK</td>\n",
       "      <td>532648</td>\n",
       "    </tr>\n",
       "    <tr>\n",
       "      <th>1763</th>\n",
       "      <td>ZEEL</td>\n",
       "      <td>533287</td>\n",
       "    </tr>\n",
       "  </tbody>\n",
       "</table>\n",
       "</div>"
      ],
      "text/plain": [
       "           stock     code\n",
       "1759       WIPRO   507685\n",
       "1760  WOCKPHARMA   532300\n",
       "1761    WONDERLA   538268\n",
       "1762     YESBANK   532648\n",
       "1763        ZEEL   533287"
      ]
     },
     "execution_count": 104,
     "metadata": {},
     "output_type": "execute_result"
    }
   ],
   "source": [
    "res.tail()"
   ]
  },
  {
   "cell_type": "code",
   "execution_count": 105,
   "metadata": {},
   "outputs": [
    {
     "data": {
      "text/html": [
       "<div>\n",
       "<style scoped>\n",
       "    .dataframe tbody tr th:only-of-type {\n",
       "        vertical-align: middle;\n",
       "    }\n",
       "\n",
       "    .dataframe tbody tr th {\n",
       "        vertical-align: top;\n",
       "    }\n",
       "\n",
       "    .dataframe thead th {\n",
       "        text-align: right;\n",
       "    }\n",
       "</style>\n",
       "<table border=\"1\" class=\"dataframe\">\n",
       "  <thead>\n",
       "    <tr style=\"text-align: right;\">\n",
       "      <th></th>\n",
       "      <th>stock</th>\n",
       "      <th>code</th>\n",
       "    </tr>\n",
       "  </thead>\n",
       "  <tbody>\n",
       "    <tr>\n",
       "      <th>0</th>\n",
       "      <td>3MINDIA</td>\n",
       "      <td>523395</td>\n",
       "    </tr>\n",
       "    <tr>\n",
       "      <th>1</th>\n",
       "      <td>AARTIIND</td>\n",
       "      <td>524348</td>\n",
       "    </tr>\n",
       "    <tr>\n",
       "      <th>2</th>\n",
       "      <td>AARTIIND</td>\n",
       "      <td>524208</td>\n",
       "    </tr>\n",
       "    <tr>\n",
       "      <th>3</th>\n",
       "      <td>ACC</td>\n",
       "      <td>500410</td>\n",
       "    </tr>\n",
       "    <tr>\n",
       "      <th>4</th>\n",
       "      <td>ADANIENT</td>\n",
       "      <td>512599</td>\n",
       "    </tr>\n",
       "    <tr>\n",
       "      <th>5</th>\n",
       "      <td>ADANIENT</td>\n",
       "      <td>532921</td>\n",
       "    </tr>\n",
       "    <tr>\n",
       "      <th>6</th>\n",
       "      <td>ADANIENT</td>\n",
       "      <td>533096</td>\n",
       "    </tr>\n",
       "    <tr>\n",
       "      <th>7</th>\n",
       "      <td>ADANIENT</td>\n",
       "      <td>539254</td>\n",
       "    </tr>\n",
       "    <tr>\n",
       "      <th>8</th>\n",
       "      <td>ADANIPORTS</td>\n",
       "      <td>512599</td>\n",
       "    </tr>\n",
       "    <tr>\n",
       "      <th>9</th>\n",
       "      <td>ADANIPORTS</td>\n",
       "      <td>532921</td>\n",
       "    </tr>\n",
       "    <tr>\n",
       "      <th>10</th>\n",
       "      <td>ADANIPORTS</td>\n",
       "      <td>533096</td>\n",
       "    </tr>\n",
       "    <tr>\n",
       "      <th>11</th>\n",
       "      <td>ADANIPORTS</td>\n",
       "      <td>539254</td>\n",
       "    </tr>\n",
       "    <tr>\n",
       "      <th>12</th>\n",
       "      <td>ADANIPOWER</td>\n",
       "      <td>512599</td>\n",
       "    </tr>\n",
       "    <tr>\n",
       "      <th>13</th>\n",
       "      <td>ADANIPOWER</td>\n",
       "      <td>532921</td>\n",
       "    </tr>\n",
       "    <tr>\n",
       "      <th>14</th>\n",
       "      <td>ADANIPOWER</td>\n",
       "      <td>533096</td>\n",
       "    </tr>\n",
       "    <tr>\n",
       "      <th>15</th>\n",
       "      <td>ADANIPOWER</td>\n",
       "      <td>539254</td>\n",
       "    </tr>\n",
       "    <tr>\n",
       "      <th>16</th>\n",
       "      <td>AIAENG</td>\n",
       "      <td>532683</td>\n",
       "    </tr>\n",
       "    <tr>\n",
       "      <th>17</th>\n",
       "      <td>AJANTPHARM</td>\n",
       "      <td>532331</td>\n",
       "    </tr>\n",
       "    <tr>\n",
       "      <th>18</th>\n",
       "      <td>AJANTPHARM</td>\n",
       "      <td>519216</td>\n",
       "    </tr>\n",
       "    <tr>\n",
       "      <th>19</th>\n",
       "      <td>AKZOINDIA</td>\n",
       "      <td>500710</td>\n",
       "    </tr>\n",
       "    <tr>\n",
       "      <th>20</th>\n",
       "      <td>ALLCARGO</td>\n",
       "      <td>532749</td>\n",
       "    </tr>\n",
       "    <tr>\n",
       "      <th>21</th>\n",
       "      <td>AMARAJABAT</td>\n",
       "      <td>532664</td>\n",
       "    </tr>\n",
       "    <tr>\n",
       "      <th>22</th>\n",
       "      <td>AMARAJABAT</td>\n",
       "      <td>500008</td>\n",
       "    </tr>\n",
       "    <tr>\n",
       "      <th>23</th>\n",
       "      <td>AMARAJABAT</td>\n",
       "      <td>521097</td>\n",
       "    </tr>\n",
       "    <tr>\n",
       "      <th>24</th>\n",
       "      <td>AMARAJABAT</td>\n",
       "      <td>538465</td>\n",
       "    </tr>\n",
       "    <tr>\n",
       "      <th>25</th>\n",
       "      <td>AMBUJACEM</td>\n",
       "      <td>500425</td>\n",
       "    </tr>\n",
       "    <tr>\n",
       "      <th>26</th>\n",
       "      <td>ANANTRAJ</td>\n",
       "      <td>531678</td>\n",
       "    </tr>\n",
       "    <tr>\n",
       "      <th>27</th>\n",
       "      <td>ANANTRAJ</td>\n",
       "      <td>501630</td>\n",
       "    </tr>\n",
       "    <tr>\n",
       "      <th>28</th>\n",
       "      <td>ANANTRAJ</td>\n",
       "      <td>515055</td>\n",
       "    </tr>\n",
       "    <tr>\n",
       "      <th>29</th>\n",
       "      <td>ANANTRAJ</td>\n",
       "      <td>526833</td>\n",
       "    </tr>\n",
       "    <tr>\n",
       "      <th>...</th>\n",
       "      <td>...</td>\n",
       "      <td>...</td>\n",
       "    </tr>\n",
       "    <tr>\n",
       "      <th>1734</th>\n",
       "      <td>UNIVCABLES</td>\n",
       "      <td>532378</td>\n",
       "    </tr>\n",
       "    <tr>\n",
       "      <th>1735</th>\n",
       "      <td>UNIVCABLES</td>\n",
       "      <td>539314</td>\n",
       "    </tr>\n",
       "    <tr>\n",
       "      <th>1736</th>\n",
       "      <td>UNIVCABLES</td>\n",
       "      <td>504212</td>\n",
       "    </tr>\n",
       "    <tr>\n",
       "      <th>1737</th>\n",
       "      <td>UNIVCABLES</td>\n",
       "      <td>531963</td>\n",
       "    </tr>\n",
       "    <tr>\n",
       "      <th>1738</th>\n",
       "      <td>UNIVCABLES</td>\n",
       "      <td>523519</td>\n",
       "    </tr>\n",
       "    <tr>\n",
       "      <th>1739</th>\n",
       "      <td>UNIVCABLES</td>\n",
       "      <td>504673</td>\n",
       "    </tr>\n",
       "    <tr>\n",
       "      <th>1740</th>\n",
       "      <td>UNIVCABLES</td>\n",
       "      <td>524408</td>\n",
       "    </tr>\n",
       "    <tr>\n",
       "      <th>1741</th>\n",
       "      <td>USHAMART</td>\n",
       "      <td>532398</td>\n",
       "    </tr>\n",
       "    <tr>\n",
       "      <th>1742</th>\n",
       "      <td>USHAMART</td>\n",
       "      <td>517146</td>\n",
       "    </tr>\n",
       "    <tr>\n",
       "      <th>1743</th>\n",
       "      <td>USHAMART</td>\n",
       "      <td>511507</td>\n",
       "    </tr>\n",
       "    <tr>\n",
       "      <th>1744</th>\n",
       "      <td>VGUARD</td>\n",
       "      <td>532953</td>\n",
       "    </tr>\n",
       "    <tr>\n",
       "      <th>1745</th>\n",
       "      <td>VOLTAS</td>\n",
       "      <td>509038</td>\n",
       "    </tr>\n",
       "    <tr>\n",
       "      <th>1746</th>\n",
       "      <td>VOLTAS</td>\n",
       "      <td>532757</td>\n",
       "    </tr>\n",
       "    <tr>\n",
       "      <th>1747</th>\n",
       "      <td>VOLTAS</td>\n",
       "      <td>500575</td>\n",
       "    </tr>\n",
       "    <tr>\n",
       "      <th>1748</th>\n",
       "      <td>WABCOINDIA</td>\n",
       "      <td>533023</td>\n",
       "    </tr>\n",
       "    <tr>\n",
       "      <th>1749</th>\n",
       "      <td>WALCHANNAG</td>\n",
       "      <td>501370</td>\n",
       "    </tr>\n",
       "    <tr>\n",
       "      <th>1750</th>\n",
       "      <td>WALCHANNAG</td>\n",
       "      <td>507410</td>\n",
       "    </tr>\n",
       "    <tr>\n",
       "      <th>1751</th>\n",
       "      <td>WELCORP</td>\n",
       "      <td>504988</td>\n",
       "    </tr>\n",
       "    <tr>\n",
       "      <th>1752</th>\n",
       "      <td>WELCORP</td>\n",
       "      <td>524661</td>\n",
       "    </tr>\n",
       "    <tr>\n",
       "      <th>1753</th>\n",
       "      <td>WELSPUNIND</td>\n",
       "      <td>532144</td>\n",
       "    </tr>\n",
       "    <tr>\n",
       "      <th>1754</th>\n",
       "      <td>WELSPUNIND</td>\n",
       "      <td>532553</td>\n",
       "    </tr>\n",
       "    <tr>\n",
       "      <th>1755</th>\n",
       "      <td>WELSPUNIND</td>\n",
       "      <td>514162</td>\n",
       "    </tr>\n",
       "    <tr>\n",
       "      <th>1756</th>\n",
       "      <td>WELSPUNIND</td>\n",
       "      <td>533252</td>\n",
       "    </tr>\n",
       "    <tr>\n",
       "      <th>1757</th>\n",
       "      <td>WHIRLPOOL</td>\n",
       "      <td>500238</td>\n",
       "    </tr>\n",
       "    <tr>\n",
       "      <th>1758</th>\n",
       "      <td>WINDMACHIN</td>\n",
       "      <td>522029</td>\n",
       "    </tr>\n",
       "    <tr>\n",
       "      <th>1759</th>\n",
       "      <td>WIPRO</td>\n",
       "      <td>507685</td>\n",
       "    </tr>\n",
       "    <tr>\n",
       "      <th>1760</th>\n",
       "      <td>WOCKPHARMA</td>\n",
       "      <td>532300</td>\n",
       "    </tr>\n",
       "    <tr>\n",
       "      <th>1761</th>\n",
       "      <td>WONDERLA</td>\n",
       "      <td>538268</td>\n",
       "    </tr>\n",
       "    <tr>\n",
       "      <th>1762</th>\n",
       "      <td>YESBANK</td>\n",
       "      <td>532648</td>\n",
       "    </tr>\n",
       "    <tr>\n",
       "      <th>1763</th>\n",
       "      <td>ZEEL</td>\n",
       "      <td>533287</td>\n",
       "    </tr>\n",
       "  </tbody>\n",
       "</table>\n",
       "<p>1764 rows × 2 columns</p>\n",
       "</div>"
      ],
      "text/plain": [
       "           stock     code\n",
       "0        3MINDIA   523395\n",
       "1       AARTIIND   524348\n",
       "2       AARTIIND   524208\n",
       "3            ACC   500410\n",
       "4       ADANIENT   512599\n",
       "5       ADANIENT   532921\n",
       "6       ADANIENT   533096\n",
       "7       ADANIENT   539254\n",
       "8     ADANIPORTS   512599\n",
       "9     ADANIPORTS   532921\n",
       "10    ADANIPORTS   533096\n",
       "11    ADANIPORTS   539254\n",
       "12    ADANIPOWER   512599\n",
       "13    ADANIPOWER   532921\n",
       "14    ADANIPOWER   533096\n",
       "15    ADANIPOWER   539254\n",
       "16        AIAENG   532683\n",
       "17    AJANTPHARM   532331\n",
       "18    AJANTPHARM   519216\n",
       "19     AKZOINDIA   500710\n",
       "20      ALLCARGO   532749\n",
       "21    AMARAJABAT   532664\n",
       "22    AMARAJABAT   500008\n",
       "23    AMARAJABAT   521097\n",
       "24    AMARAJABAT   538465\n",
       "25     AMBUJACEM   500425\n",
       "26      ANANTRAJ   531678\n",
       "27      ANANTRAJ   501630\n",
       "28      ANANTRAJ   515055\n",
       "29      ANANTRAJ   526833\n",
       "...          ...      ...\n",
       "1734  UNIVCABLES   532378\n",
       "1735  UNIVCABLES   539314\n",
       "1736  UNIVCABLES   504212\n",
       "1737  UNIVCABLES   531963\n",
       "1738  UNIVCABLES   523519\n",
       "1739  UNIVCABLES   504673\n",
       "1740  UNIVCABLES   524408\n",
       "1741    USHAMART   532398\n",
       "1742    USHAMART   517146\n",
       "1743    USHAMART   511507\n",
       "1744      VGUARD   532953\n",
       "1745      VOLTAS   509038\n",
       "1746      VOLTAS   532757\n",
       "1747      VOLTAS   500575\n",
       "1748  WABCOINDIA   533023\n",
       "1749  WALCHANNAG   501370\n",
       "1750  WALCHANNAG   507410\n",
       "1751     WELCORP   504988\n",
       "1752     WELCORP   524661\n",
       "1753  WELSPUNIND   532144\n",
       "1754  WELSPUNIND   532553\n",
       "1755  WELSPUNIND   514162\n",
       "1756  WELSPUNIND   533252\n",
       "1757   WHIRLPOOL   500238\n",
       "1758  WINDMACHIN   522029\n",
       "1759       WIPRO   507685\n",
       "1760  WOCKPHARMA   532300\n",
       "1761    WONDERLA   538268\n",
       "1762     YESBANK   532648\n",
       "1763        ZEEL   533287\n",
       "\n",
       "[1764 rows x 2 columns]"
      ]
     },
     "execution_count": 105,
     "metadata": {},
     "output_type": "execute_result"
    }
   ],
   "source": [
    "res"
   ]
  },
  {
   "cell_type": "code",
   "execution_count": 103,
   "metadata": {},
   "outputs": [
    {
     "data": {
      "text/plain": [
       "1764"
      ]
     },
     "execution_count": 103,
     "metadata": {},
     "output_type": "execute_result"
    }
   ],
   "source": [
    "len(res)"
   ]
  },
  {
   "cell_type": "code",
   "execution_count": null,
   "metadata": {},
   "outputs": [],
   "source": []
  }
 ],
 "metadata": {
  "kernelspec": {
   "display_name": "Python 3",
   "language": "python",
   "name": "python3"
  },
  "language_info": {
   "codemirror_mode": {
    "name": "ipython",
    "version": 3
   },
   "file_extension": ".py",
   "mimetype": "text/x-python",
   "name": "python",
   "nbconvert_exporter": "python",
   "pygments_lexer": "ipython3",
   "version": "3.7.3"
  }
 },
 "nbformat": 4,
 "nbformat_minor": 2
}
