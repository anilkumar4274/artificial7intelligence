{
 "cells": [
  {
   "cell_type": "markdown",
   "metadata": {},
   "source": [
    "# 1. Extract info from the \"TATASTEEL FILE\" from the location as below:"
   ]
  },
  {
   "cell_type": "code",
   "execution_count": 1,
   "metadata": {},
   "outputs": [
    {
     "data": {
      "text/plain": [
       "'C:\\\\Users\\\\MAHE\\\\Desktop\\\\Data Science'"
      ]
     },
     "execution_count": 1,
     "metadata": {},
     "output_type": "execute_result"
    }
   ],
   "source": [
    "import os\n",
    "os.getcwd()"
   ]
  },
  {
   "cell_type": "code",
   "execution_count": 2,
   "metadata": {},
   "outputs": [],
   "source": [
    "import pandas as pd\n",
    "import numpy as np"
   ]
  },
  {
   "cell_type": "code",
   "execution_count": 21,
   "metadata": {},
   "outputs": [],
   "source": [
    "def job_function():\n",
    "    import pandas as pd\n",
    "    import numpy as np\n",
    "    import datetime\n",
    "    import time\n",
    "    import subprocess\n",
    "    baseURL='https://www.nseindia.com/live_market/dynaContent/live_watch/get_quote/GetQuote.jsp?symbol=TATASTEEL'\n",
    "    textfile = subprocess.check_output(['curl','-o','tatasteel.txt','-O', baseURL])\n",
    "    f = open(\"tatasteel.txt\",\"r\")\n",
    "    file = str(f.read())\n",
    "    beg = file.find('[{')\n",
    "    end = file.find('}]')\n",
    "    trial = file[beg+1:end+1]\n",
    "    trial = trial.replace('false','\"false\"').replace('true','\"true\"')\n",
    "    trial = eval(trial)  \n",
    "    \n",
    "    global schedular, count\n",
    "    \n",
    "    df[\"symbol\"] = [trial[\"symbol\"]]\n",
    "    df[\"buy\"] = [trial[\"totalBuyQuantity\"]]\n",
    "    df[\"sell\"] = [trial[\"totalSellQuantity\"]]\n",
    "    df[\"lastP\"] = [trial[\"lastPrice\"]]        \n",
    "    \n",
    "    #df = pd.DataFrame({\"symbol\":,\"buy\":[trial[\"totalBuyQuantity\"]],\"sell\":[trial[\"totalSellQuantity\"]],\"lastP\":[trial[\"lastPrice\"]]})\n",
    "    df['sell']=[x.replace('-','0').replace(',','') for x in df['sell']]\n",
    "    df['buy']=[x.replace('-','0').replace(',','') for x in df['buy']]\n",
    "    currentDT = datetime.datetime.now()\n",
    "    df['time']=currentDT.strftime(\"%H:%M\")\n",
    "    if count==0:\n",
    "        df[\"bs\"+str(count)] = np.where(df[\"sell\"]>=df[\"buy\"],\"S\",\"B\")\n",
    "    else:\n",
    "        df[\"bs\"+str(count)] = np.where(df[\"sell\"]>=df[\"buy\"],\"S\",\"B\")\n",
    "        result[\"bs\"+str(count)] = np.where(df[\"bs\"+str(count)]==df[\"bs\"+str(count-1)],\"S\",df[\"symbol\"]+df[\"time\"])\n",
    "            \n",
    "    df.to_csv(\"TATA_file\"+str(count)+\".csv\")\n",
    "    \n",
    "    count+=1\n",
    "    \n",
    "    if count==5:\n",
    "            scheduler.shutdown(wait = False)"
   ]
  },
  {
   "cell_type": "markdown",
   "metadata": {},
   "source": [
    "# 2. Background Schedular"
   ]
  },
  {
   "cell_type": "code",
   "execution_count": 24,
   "metadata": {},
   "outputs": [],
   "source": [
    "from datetime import datetime\n",
    "from apscheduler.schedulers.background import BackgroundScheduler\n",
    "count = 0\n",
    "df = pd.DataFrame(columns = [\"symbol\",\"buy\",\"sell\",\"lastP\",\"time\"]) \n",
    "result = pd.DataFrame(columns = [\"symbol\"])\n",
    "scheduler = BackgroundScheduler()\n",
    "\n",
    "scheduler.add_job(job_function, 'interval', minutes = 2, start_date='2019-07-18 10:53:00', end_date='2019-07-18 11:15:00', id='my_job_id')\n",
    "\n",
    "try:\n",
    "    scheduler.start()\n",
    "except apscheduler.schedulers.SchedulerNotRunningError as e:\n",
    "    print('program exited')"
   ]
  },
  {
   "cell_type": "code",
   "execution_count": 25,
   "metadata": {},
   "outputs": [
    {
     "data": {
      "text/html": [
       "<div>\n",
       "<style scoped>\n",
       "    .dataframe tbody tr th:only-of-type {\n",
       "        vertical-align: middle;\n",
       "    }\n",
       "\n",
       "    .dataframe tbody tr th {\n",
       "        vertical-align: top;\n",
       "    }\n",
       "\n",
       "    .dataframe thead th {\n",
       "        text-align: right;\n",
       "    }\n",
       "</style>\n",
       "<table border=\"1\" class=\"dataframe\">\n",
       "  <thead>\n",
       "    <tr style=\"text-align: right;\">\n",
       "      <th></th>\n",
       "      <th>bs1</th>\n",
       "      <th>bs2</th>\n",
       "      <th>bs3</th>\n",
       "      <th>bs4</th>\n",
       "    </tr>\n",
       "  </thead>\n",
       "  <tbody>\n",
       "    <tr>\n",
       "      <th>0</th>\n",
       "      <td>S</td>\n",
       "      <td>S</td>\n",
       "      <td>S</td>\n",
       "      <td>S</td>\n",
       "    </tr>\n",
       "  </tbody>\n",
       "</table>\n",
       "</div>"
      ],
      "text/plain": [
       "  bs1 bs2 bs3 bs4\n",
       "0   S   S   S   S"
      ]
     },
     "execution_count": 25,
     "metadata": {},
     "output_type": "execute_result"
    }
   ],
   "source": [
    "result"
   ]
  },
  {
   "cell_type": "code",
   "execution_count": 26,
   "metadata": {},
   "outputs": [
    {
     "data": {
      "text/html": [
       "<div>\n",
       "<style scoped>\n",
       "    .dataframe tbody tr th:only-of-type {\n",
       "        vertical-align: middle;\n",
       "    }\n",
       "\n",
       "    .dataframe tbody tr th {\n",
       "        vertical-align: top;\n",
       "    }\n",
       "\n",
       "    .dataframe thead th {\n",
       "        text-align: right;\n",
       "    }\n",
       "</style>\n",
       "<table border=\"1\" class=\"dataframe\">\n",
       "  <thead>\n",
       "    <tr style=\"text-align: right;\">\n",
       "      <th></th>\n",
       "      <th>symbol</th>\n",
       "      <th>buy</th>\n",
       "      <th>sell</th>\n",
       "      <th>lastP</th>\n",
       "      <th>time</th>\n",
       "      <th>bs0</th>\n",
       "      <th>bs1</th>\n",
       "      <th>bs2</th>\n",
       "      <th>bs3</th>\n",
       "      <th>bs4</th>\n",
       "    </tr>\n",
       "  </thead>\n",
       "  <tbody>\n",
       "    <tr>\n",
       "      <th>0</th>\n",
       "      <td>TATASTEEL</td>\n",
       "      <td>511989</td>\n",
       "      <td>558084</td>\n",
       "      <td>470.35</td>\n",
       "      <td>11:03</td>\n",
       "      <td>S</td>\n",
       "      <td>S</td>\n",
       "      <td>S</td>\n",
       "      <td>S</td>\n",
       "      <td>S</td>\n",
       "    </tr>\n",
       "  </tbody>\n",
       "</table>\n",
       "</div>"
      ],
      "text/plain": [
       "      symbol     buy    sell   lastP   time bs0 bs1 bs2 bs3 bs4\n",
       "0  TATASTEEL  511989  558084  470.35  11:03   S   S   S   S   S"
      ]
     },
     "execution_count": 26,
     "metadata": {},
     "output_type": "execute_result"
    }
   ],
   "source": [
    "df"
   ]
  },
  {
   "cell_type": "code",
   "execution_count": null,
   "metadata": {},
   "outputs": [],
   "source": []
  },
  {
   "cell_type": "markdown",
   "metadata": {},
   "source": [
    "# Comparing last col with all other previous columns: "
   ]
  },
  {
   "cell_type": "markdown",
   "metadata": {},
   "source": [
    "## To be placed at the \"else\" condition "
   ]
  },
  {
   "cell_type": "markdown",
   "metadata": {},
   "source": [
    "### Should it change dynamically or be appended in the same way as bs0..? "
   ]
  },
  {
   "cell_type": "markdown",
   "metadata": {},
   "source": [
    "## Trial: "
   ]
  },
  {
   "cell_type": "code",
   "execution_count": 3,
   "metadata": {},
   "outputs": [
    {
     "data": {
      "text/html": [
       "<div>\n",
       "<style scoped>\n",
       "    .dataframe tbody tr th:only-of-type {\n",
       "        vertical-align: middle;\n",
       "    }\n",
       "\n",
       "    .dataframe tbody tr th {\n",
       "        vertical-align: top;\n",
       "    }\n",
       "\n",
       "    .dataframe thead th {\n",
       "        text-align: right;\n",
       "    }\n",
       "</style>\n",
       "<table border=\"1\" class=\"dataframe\">\n",
       "  <thead>\n",
       "    <tr style=\"text-align: right;\">\n",
       "      <th></th>\n",
       "      <th>A</th>\n",
       "      <th>bs0</th>\n",
       "      <th>bs1</th>\n",
       "      <th>bs2</th>\n",
       "      <th>bs3</th>\n",
       "    </tr>\n",
       "  </thead>\n",
       "  <tbody>\n",
       "    <tr>\n",
       "      <th>0</th>\n",
       "      <td>V</td>\n",
       "      <td>s</td>\n",
       "      <td>b</td>\n",
       "      <td>b</td>\n",
       "      <td>b</td>\n",
       "    </tr>\n",
       "    <tr>\n",
       "      <th>1</th>\n",
       "      <td>W</td>\n",
       "      <td>b</td>\n",
       "      <td>s</td>\n",
       "      <td>b</td>\n",
       "      <td>b</td>\n",
       "    </tr>\n",
       "    <tr>\n",
       "      <th>2</th>\n",
       "      <td>X</td>\n",
       "      <td>b</td>\n",
       "      <td>b</td>\n",
       "      <td>b</td>\n",
       "      <td>b</td>\n",
       "    </tr>\n",
       "    <tr>\n",
       "      <th>3</th>\n",
       "      <td>Y</td>\n",
       "      <td>s</td>\n",
       "      <td>s</td>\n",
       "      <td>s</td>\n",
       "      <td>s</td>\n",
       "    </tr>\n",
       "    <tr>\n",
       "      <th>4</th>\n",
       "      <td>Z</td>\n",
       "      <td>s</td>\n",
       "      <td>s</td>\n",
       "      <td>s</td>\n",
       "      <td>s</td>\n",
       "    </tr>\n",
       "  </tbody>\n",
       "</table>\n",
       "</div>"
      ],
      "text/plain": [
       "   A bs0 bs1 bs2 bs3\n",
       "0  V   s   b   b   b\n",
       "1  W   b   s   b   b\n",
       "2  X   b   b   b   b\n",
       "3  Y   s   s   s   s\n",
       "4  Z   s   s   s   s"
      ]
     },
     "execution_count": 3,
     "metadata": {},
     "output_type": "execute_result"
    }
   ],
   "source": [
    "data = {\"A\":['V','W','X','Y','Z'],\"bs0\":['s','b','b','s','s'],\"bs1\":['b','s','b','s','s'],\"bs2\":['b','b','b','s','s'],\"bs3\":['b','b','b','s','s']}\n",
    "df = pd.DataFrame(data)\n",
    "df"
   ]
  },
  {
   "cell_type": "code",
   "execution_count": 9,
   "metadata": {},
   "outputs": [
    {
     "data": {
      "text/html": [
       "<div>\n",
       "<style scoped>\n",
       "    .dataframe tbody tr th:only-of-type {\n",
       "        vertical-align: middle;\n",
       "    }\n",
       "\n",
       "    .dataframe tbody tr th {\n",
       "        vertical-align: top;\n",
       "    }\n",
       "\n",
       "    .dataframe thead th {\n",
       "        text-align: right;\n",
       "    }\n",
       "</style>\n",
       "<table border=\"1\" class=\"dataframe\">\n",
       "  <thead>\n",
       "    <tr style=\"text-align: right;\">\n",
       "      <th></th>\n",
       "      <th>bs0</th>\n",
       "      <th>bs1</th>\n",
       "      <th>bs2</th>\n",
       "    </tr>\n",
       "  </thead>\n",
       "  <tbody>\n",
       "    <tr>\n",
       "      <th>0</th>\n",
       "      <td>s</td>\n",
       "      <td>b</td>\n",
       "      <td>b</td>\n",
       "    </tr>\n",
       "    <tr>\n",
       "      <th>1</th>\n",
       "      <td>b</td>\n",
       "      <td>s</td>\n",
       "      <td>b</td>\n",
       "    </tr>\n",
       "    <tr>\n",
       "      <th>2</th>\n",
       "      <td>b</td>\n",
       "      <td>b</td>\n",
       "      <td>b</td>\n",
       "    </tr>\n",
       "    <tr>\n",
       "      <th>3</th>\n",
       "      <td>s</td>\n",
       "      <td>s</td>\n",
       "      <td>s</td>\n",
       "    </tr>\n",
       "    <tr>\n",
       "      <th>4</th>\n",
       "      <td>s</td>\n",
       "      <td>s</td>\n",
       "      <td>s</td>\n",
       "    </tr>\n",
       "  </tbody>\n",
       "</table>\n",
       "</div>"
      ],
      "text/plain": [
       "  bs0 bs1 bs2\n",
       "0   s   b   b\n",
       "1   b   s   b\n",
       "2   b   b   b\n",
       "3   s   s   s\n",
       "4   s   s   s"
      ]
     },
     "execution_count": 9,
     "metadata": {},
     "output_type": "execute_result"
    }
   ],
   "source": [
    "df.iloc[:,1:4]"
   ]
  },
  {
   "cell_type": "code",
   "execution_count": 10,
   "metadata": {},
   "outputs": [
    {
     "data": {
      "text/html": [
       "<div>\n",
       "<style scoped>\n",
       "    .dataframe tbody tr th:only-of-type {\n",
       "        vertical-align: middle;\n",
       "    }\n",
       "\n",
       "    .dataframe tbody tr th {\n",
       "        vertical-align: top;\n",
       "    }\n",
       "\n",
       "    .dataframe thead th {\n",
       "        text-align: right;\n",
       "    }\n",
       "</style>\n",
       "<table border=\"1\" class=\"dataframe\">\n",
       "  <thead>\n",
       "    <tr style=\"text-align: right;\">\n",
       "      <th></th>\n",
       "      <th>A</th>\n",
       "      <th>bs0</th>\n",
       "      <th>bs1</th>\n",
       "      <th>bs2</th>\n",
       "      <th>bs3</th>\n",
       "      <th>Result</th>\n",
       "    </tr>\n",
       "  </thead>\n",
       "  <tbody>\n",
       "    <tr>\n",
       "      <th>0</th>\n",
       "      <td>V</td>\n",
       "      <td>s</td>\n",
       "      <td>b</td>\n",
       "      <td>b</td>\n",
       "      <td>b</td>\n",
       "      <td>False</td>\n",
       "    </tr>\n",
       "    <tr>\n",
       "      <th>1</th>\n",
       "      <td>W</td>\n",
       "      <td>b</td>\n",
       "      <td>s</td>\n",
       "      <td>b</td>\n",
       "      <td>b</td>\n",
       "      <td>False</td>\n",
       "    </tr>\n",
       "    <tr>\n",
       "      <th>2</th>\n",
       "      <td>X</td>\n",
       "      <td>b</td>\n",
       "      <td>b</td>\n",
       "      <td>b</td>\n",
       "      <td>b</td>\n",
       "      <td>True</td>\n",
       "    </tr>\n",
       "    <tr>\n",
       "      <th>3</th>\n",
       "      <td>Y</td>\n",
       "      <td>s</td>\n",
       "      <td>s</td>\n",
       "      <td>s</td>\n",
       "      <td>s</td>\n",
       "      <td>True</td>\n",
       "    </tr>\n",
       "    <tr>\n",
       "      <th>4</th>\n",
       "      <td>Z</td>\n",
       "      <td>s</td>\n",
       "      <td>s</td>\n",
       "      <td>s</td>\n",
       "      <td>s</td>\n",
       "      <td>True</td>\n",
       "    </tr>\n",
       "  </tbody>\n",
       "</table>\n",
       "</div>"
      ],
      "text/plain": [
       "   A bs0 bs1 bs2 bs3 Result\n",
       "0  V   s   b   b   b  False\n",
       "1  W   b   s   b   b  False\n",
       "2  X   b   b   b   b   True\n",
       "3  Y   s   s   s   s   True\n",
       "4  Z   s   s   s   s   True"
      ]
     },
     "execution_count": 10,
     "metadata": {},
     "output_type": "execute_result"
    }
   ],
   "source": [
    "df[\"Result\"] = (df.iloc[:,1:4].values==df[[\"bs3\"]].values).all(axis=1).astype(str)\n",
    "df"
   ]
  },
  {
   "cell_type": "markdown",
   "metadata": {},
   "source": [
    "# Capture data where \"S\" and \"B\" and vice-versa in a different dataframe"
   ]
  },
  {
   "cell_type": "markdown",
   "metadata": {},
   "source": [
    "# Capture times greater in the individual csv files also ( since they change dynamically)"
   ]
  },
  {
   "cell_type": "markdown",
   "metadata": {},
   "source": [
    "# All stocks: "
   ]
  },
  {
   "cell_type": "code",
   "execution_count": 1,
   "metadata": {},
   "outputs": [
    {
     "data": {
      "text/plain": [
       "['ACC',\n",
       " 'AMARAJABAT',\n",
       " 'AMBUJACEM',\n",
       " 'APOLLOTYRE',\n",
       " 'ASHOKLEY',\n",
       " 'ASIANPAINT',\n",
       " 'AUROPHARMA',\n",
       " 'AXISBANK',\n",
       " 'BAJAJ-AUTO',\n",
       " 'BAJAJFINSV',\n",
       " 'BAJFINANCE',\n",
       " 'BALKRISIND',\n",
       " 'BANKBARODA',\n",
       " 'BATAINDIA',\n",
       " 'BEL',\n",
       " 'BERGEPAINT',\n",
       " 'BHARATFORG',\n",
       " 'BIOCON',\n",
       " 'BOSCHLTD',\n",
       " 'BPCL',\n",
       " 'BRITANNIA',\n",
       " 'CADILAHC',\n",
       " 'CANBK',\n",
       " 'CASTROLIND',\n",
       " 'CENTURYTEX',\n",
       " 'CESC',\n",
       " 'CHOLAFIN',\n",
       " 'CIPLA',\n",
       " 'COALINDIA',\n",
       " 'COLPAL',\n",
       " 'CONCOR',\n",
       " 'CUMMINSIND',\n",
       " 'DABUR',\n",
       " 'EICHERMOT',\n",
       " 'ENGINERSIN',\n",
       " 'ESCORTS',\n",
       " 'EXIDEIND',\n",
       " 'FEDERALBNK',\n",
       " 'GLENMARK',\n",
       " 'GODREJCP',\n",
       " 'GODREJIND',\n",
       " 'GRASIM',\n",
       " 'HAVELLS',\n",
       " 'HCLTECH',\n",
       " 'HDFC',\n",
       " 'HDFCBANK',\n",
       " 'HEROMOTOCO',\n",
       " 'HEXAWARE',\n",
       " 'HINDALCO',\n",
       " 'HINDUNILVR',\n",
       " 'HINDZINC',\n",
       " 'ICICIBANK',\n",
       " 'IDBI',\n",
       " 'IDFCFIRSTB',\n",
       " 'IGL',\n",
       " 'INDUSINDBK',\n",
       " 'INFRATEL',\n",
       " 'INFY',\n",
       " 'ITC',\n",
       " 'JSWSTEEL',\n",
       " 'KAJARIACER',\n",
       " 'KOTAKBANK',\n",
       " 'LICHSGFIN',\n",
       " 'LT',\n",
       " 'LUPIN',\n",
       " 'M&M',\n",
       " 'M&MFIN',\n",
       " 'MANAPPURAM',\n",
       " 'MARICO',\n",
       " 'MARUTI',\n",
       " 'MCDOWELL-N',\n",
       " 'MCX',\n",
       " 'MFSL',\n",
       " 'MGL',\n",
       " 'MINDTREE',\n",
       " 'MRF',\n",
       " 'MUTHOOTFIN',\n",
       " 'NATIONALUM',\n",
       " 'NBCC',\n",
       " 'NCC',\n",
       " 'NESTLEIND',\n",
       " 'NIITTECH',\n",
       " 'NMDC',\n",
       " 'NTPC',\n",
       " 'OFSS',\n",
       " 'OIL',\n",
       " 'ONGC',\n",
       " 'PEL',\n",
       " 'PETRONET',\n",
       " 'PIDILITIND',\n",
       " 'POWERGRID',\n",
       " 'PVR',\n",
       " 'RAMCOCEM',\n",
       " 'RAYMOND',\n",
       " 'RBLBANK',\n",
       " 'RECLTD',\n",
       " 'RELIANCE',\n",
       " 'SAIL',\n",
       " 'SBIN',\n",
       " 'SHREECEM',\n",
       " 'SIEMENS',\n",
       " 'TATACHEM',\n",
       " 'TATAELXSI',\n",
       " 'TATAGLOBAL',\n",
       " 'TATAPOWER',\n",
       " 'TATASTEEL',\n",
       " 'TCS',\n",
       " 'TECHM',\n",
       " 'TORNTPHARM',\n",
       " 'TORNTPOWER',\n",
       " 'TVSMOTOR',\n",
       " 'UBL',\n",
       " 'ULTRACEMCO',\n",
       " 'UPL',\n",
       " 'VOLTAS',\n",
       " 'WIPRO']"
      ]
     },
     "execution_count": 1,
     "metadata": {},
     "output_type": "execute_result"
    }
   ],
   "source": [
    "#Load the dataframe \n",
    "import numpy as np\n",
    "import pandas as pd\n",
    "import requests\n",
    "import re\n",
    "import pandas as pd\n",
    "from bs4 import BeautifulSoup\n",
    "Base_url=(\"https://zerodha.com/margin-calculator/Equity/\")\n",
    "page=requests.get(Base_url)\n",
    "soup=BeautifulSoup(page.content,'html.parser')\n",
    "data = []\n",
    "table = soup.find('table', attrs={'class':'data equity'})\n",
    "table_body = table.find('tbody')\n",
    "\n",
    "rows = soup.find_all('tr')\n",
    "for row in rows:\n",
    "    cols = row.find_all('td')\n",
    "    cols = [ele.text.strip() for ele in cols]\n",
    "    data.append([ele for ele in cols if ele]) # Get rid of empty values\n",
    "\n",
    "df = pd.DataFrame(data = data)\n",
    "\n",
    "\n",
    "\n",
    "\n",
    "\n",
    "#LIST COMPREHESNION\n",
    "company_symbol = []\n",
    "[company_symbol.append(df.loc[i][1][:-3:]) for i in range(len(df)) if df.loc[i][3] == \"12.5x\"]\n",
    "company_symbol"
   ]
  },
  {
   "cell_type": "code",
   "execution_count": 2,
   "metadata": {},
   "outputs": [
    {
     "data": {
      "text/plain": [
       "['ACC',\n",
       " 'AMARAJABAT',\n",
       " 'AMBUJACEM',\n",
       " 'APOLLOTYRE',\n",
       " 'ASHOKLEY',\n",
       " 'ASIANPAINT',\n",
       " 'AUROPHARMA',\n",
       " 'AXISBANK',\n",
       " 'BAJAJ-AUTO',\n",
       " 'BAJAJFINSV']"
      ]
     },
     "execution_count": 2,
     "metadata": {},
     "output_type": "execute_result"
    }
   ],
   "source": [
    "company_symbol[:10]   \n",
    "        "
   ]
  },
  {
   "cell_type": "code",
   "execution_count": 9,
   "metadata": {},
   "outputs": [],
   "source": [
    "def job_function2():\n",
    "    import pandas as pd\n",
    "    import numpy as np\n",
    "    import datetime\n",
    "    import time\n",
    "    import subprocess\n",
    "    baseURL='https://www.nseindia.com/live_market/dynaContent/live_watch/get_quote/GetQuote.jsp?symbol='\n",
    "    symbol_list = []\n",
    "    buy_list = []\n",
    "    sell_list = []\n",
    "    lastP_list = []\n",
    "    for i in company_symbol[:10]:\n",
    "        textfile = subprocess.check_output(['curl','-o',i+'.txt','-O', baseURL+i])\n",
    "        f = open(i+\".txt\",\"r\")\n",
    "        file = str(f.read())\n",
    "        beg = file.find('[{')\n",
    "        end = file.find('}]')\n",
    "        trial = file[beg+1:end+1]\n",
    "        trial = trial.replace('false','\"false\"').replace('true','\"true\"')\n",
    "        trial = eval(trial)  \n",
    "        symbol_list.append(trial[\"symbol\"])\n",
    "        buy_list.append(trial[\"totalBuyQuantity\"])\n",
    "        sell_list.append(trial[\"totalSellQuantity\"])\n",
    "        lastP_list.append(trial[\"lastPrice\"])\n",
    "\n",
    "    global count, scheduler\n",
    "\n",
    "    df[\"symbol\"] = symbol_list\n",
    "    df[\"buy\"] = buy_list\n",
    "    df[\"sell\"] = sell_list\n",
    "    df[\"lastP\"] = lastP_list\n",
    "\n",
    "    #df = pd.DataFrame({\"symbol\":,\"buy\":[trial[\"totalBuyQuantity\"]],\"sell\":[trial[\"totalSellQuantity\"]],\"lastP\":[trial[\"lastPrice\"]]})\n",
    "    df['sell']=[x.replace('-','0').replace(',','') for x in df['sell']]\n",
    "    df['buy']=[x.replace('-','0').replace(',','') for x in df['buy']]\n",
    "    currentDT = datetime.datetime.now()\n",
    "    df['time']=currentDT.strftime(\"%H:%M\")\n",
    "    if count==0:\n",
    "        df[\"bs\"+str(count)] = np.where(df[\"sell\"]>=df[\"buy\"],\"S\",\"B\")\n",
    "    else:\n",
    "        df[\"bs\"+str(count)] = np.where(df[\"sell\"]>=df[\"buy\"],\"S\",\"B\")\n",
    "        result[\"bs\"+str(count)] = np.where(df[\"bs\"+str(count)]==df[\"bs\"+str(count-1)],\"S\",df[\"symbol\"]+df[\"time\"])\n",
    "\n",
    "    df.to_csv(\"all\"+str(count)+\".csv\")\n",
    "    \n",
    "    count+=1\n",
    "\n",
    "    if count==20:\n",
    "        scheduler.shutdown(wait = False)"
   ]
  },
  {
   "cell_type": "code",
   "execution_count": 8,
   "metadata": {},
   "outputs": [],
   "source": [
    "from datetime import datetime\n",
    "from apscheduler.schedulers.background import BackgroundScheduler\n",
    "count = 0\n",
    "df = pd.DataFrame(columns = [\"symbol\",\"buy\",\"sell\",\"lastP\",\"time\"]) \n",
    "result = pd.DataFrame(columns = [\"symbol\"])\n",
    "scheduler = BackgroundScheduler()\n",
    "\n",
    "scheduler.add_job(job_function2, 'interval', minutes = 5, start_date='2019-07-18 12:38:00', end_date='2019-07-18 14:20:00', id='my_job_id')\n",
    "\n",
    "try:\n",
    "    scheduler.start()\n",
    "except apscheduler.schedulers.SchedulerNotRunningError as e:\n",
    "    print('program exited')"
   ]
  },
  {
   "cell_type": "code",
   "execution_count": null,
   "metadata": {},
   "outputs": [],
   "source": []
  }
 ],
 "metadata": {
  "kernelspec": {
   "display_name": "Python 3",
   "language": "python",
   "name": "python3"
  },
  "language_info": {
   "codemirror_mode": {
    "name": "ipython",
    "version": 3
   },
   "file_extension": ".py",
   "mimetype": "text/x-python",
   "name": "python",
   "nbconvert_exporter": "python",
   "pygments_lexer": "ipython3",
   "version": "3.7.3"
  }
 },
 "nbformat": 4,
 "nbformat_minor": 2
}
