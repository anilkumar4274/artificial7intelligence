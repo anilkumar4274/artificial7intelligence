{
 "cells": [
  {
   "cell_type": "code",
   "execution_count": 1,
   "metadata": {},
   "outputs": [],
   "source": [
    "from selenium import webdriver\n",
    "from selenium.webdriver import ActionChains\n",
    "import time\n",
    "import bs4\n",
    "from bs4 import BeautifulSoup\n",
    "import pandas as pd"
   ]
  },
  {
   "cell_type": "code",
   "execution_count": 2,
   "metadata": {},
   "outputs": [],
   "source": [
    "df=pd.DataFrame(columns=['Buy','Sell'])\n",
    "v1=list(df.columns)\n",
    "driver = webdriver.Chrome()\n",
    "time.sleep(10)"
   ]
  },
  {
   "cell_type": "code",
   "execution_count": 3,
   "metadata": {},
   "outputs": [],
   "source": [
    "#program running for 10 times with 10 seconds time interval\n",
    "j=0\n",
    "while j<=10:\n",
    "    driver.get('https://beta.nseindia.com/get-quotes/derivatives?symbol=BANKNIFTY&identifier=OPTIDXBANKNIFTY05-09-2019CE27000.00')\n",
    "    time.sleep(10)\n",
    "    btn=driver.find_element_by_xpath(\"\"\"//*[@id=\"gq-derivatives-all-contracts-table\"]/tbody/tr[1]/td[1]/button\"\"\")\n",
    "    ActionChains(driver).move_to_element(btn).click(btn).perform()\n",
    "    source=driver.page_source\n",
    "    soup=BeautifulSoup(source,'html.parser')\n",
    "    quant=soup.find_all('span', attrs={'class':'text-italic'})\n",
    "    for i in range(len(quant)):\n",
    "        df.loc[j,v1[i]]=quant[i].text[19:]\n",
    "    j=j+1\n",
    "    time.sleep(10)"
   ]
  },
  {
   "cell_type": "code",
   "execution_count": 4,
   "metadata": {},
   "outputs": [
    {
     "data": {
      "text/html": [
       "<div>\n",
       "<style scoped>\n",
       "    .dataframe tbody tr th:only-of-type {\n",
       "        vertical-align: middle;\n",
       "    }\n",
       "\n",
       "    .dataframe tbody tr th {\n",
       "        vertical-align: top;\n",
       "    }\n",
       "\n",
       "    .dataframe thead th {\n",
       "        text-align: right;\n",
       "    }\n",
       "</style>\n",
       "<table border=\"1\" class=\"dataframe\">\n",
       "  <thead>\n",
       "    <tr style=\"text-align: right;\">\n",
       "      <th></th>\n",
       "      <th>Buy</th>\n",
       "      <th>Sell</th>\n",
       "    </tr>\n",
       "  </thead>\n",
       "  <tbody>\n",
       "    <tr>\n",
       "      <th>0</th>\n",
       "      <td>43,420</td>\n",
       "      <td>10,340</td>\n",
       "    </tr>\n",
       "    <tr>\n",
       "      <th>1</th>\n",
       "      <td>43,420</td>\n",
       "      <td>10,340</td>\n",
       "    </tr>\n",
       "    <tr>\n",
       "      <th>2</th>\n",
       "      <td>43,420</td>\n",
       "      <td>10,340</td>\n",
       "    </tr>\n",
       "    <tr>\n",
       "      <th>5</th>\n",
       "      <td>43,420</td>\n",
       "      <td>10,340</td>\n",
       "    </tr>\n",
       "    <tr>\n",
       "      <th>6</th>\n",
       "      <td>43,420</td>\n",
       "      <td>10,340</td>\n",
       "    </tr>\n",
       "    <tr>\n",
       "      <th>8</th>\n",
       "      <td>43,420</td>\n",
       "      <td>10,340</td>\n",
       "    </tr>\n",
       "    <tr>\n",
       "      <th>9</th>\n",
       "      <td>43,420</td>\n",
       "      <td>10,340</td>\n",
       "    </tr>\n",
       "    <tr>\n",
       "      <th>10</th>\n",
       "      <td>43,420</td>\n",
       "      <td>10,340</td>\n",
       "    </tr>\n",
       "  </tbody>\n",
       "</table>\n",
       "</div>"
      ],
      "text/plain": [
       "       Buy    Sell\n",
       "0   43,420  10,340\n",
       "1   43,420  10,340\n",
       "2   43,420  10,340\n",
       "5   43,420  10,340\n",
       "6   43,420  10,340\n",
       "8   43,420  10,340\n",
       "9   43,420  10,340\n",
       "10  43,420  10,340"
      ]
     },
     "execution_count": 4,
     "metadata": {},
     "output_type": "execute_result"
    }
   ],
   "source": [
    "df"
   ]
  },
  {
   "cell_type": "code",
   "execution_count": null,
   "metadata": {},
   "outputs": [],
   "source": []
  }
 ],
 "metadata": {
  "kernelspec": {
   "display_name": "Python 3",
   "language": "python",
   "name": "python3"
  },
  "language_info": {
   "codemirror_mode": {
    "name": "ipython",
    "version": 3
   },
   "file_extension": ".py",
   "mimetype": "text/x-python",
   "name": "python",
   "nbconvert_exporter": "python",
   "pygments_lexer": "ipython3",
   "version": "3.7.3"
  }
 },
 "nbformat": 4,
 "nbformat_minor": 2
}
