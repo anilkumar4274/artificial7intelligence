{
 "cells": [
  {
   "cell_type": "code",
   "execution_count": null,
   "metadata": {},
   "outputs": [],
   "source": [
    "! python -m pip install --upgrade pip"
   ]
  },
  {
   "cell_type": "code",
   "execution_count": null,
   "metadata": {},
   "outputs": [],
   "source": [
    "#! pip install gitpython\n",
    "\n",
    "# example\n",
    "\n",
    "! git clone https://github.com/anilkumar4274/artificial7intelligence.git artificial7intelligence\n",
    "import os\n",
    "os.chdir(\"C://Users/aa/Desktop/Python Code/Projects/Daily Tasks/Test/artificial7intelligence\")\n",
    "! git add test.ipynb\n",
    "! git commit -m \"adding file\" *\n",
    "! git push -u origin master"
   ]
  },
  {
   "cell_type": "code",
   "execution_count": null,
   "metadata": {},
   "outputs": [],
   "source": [
    "import git"
   ]
  },
  {
   "cell_type": "code",
   "execution_count": null,
   "metadata": {},
   "outputs": [],
   "source": [
    "import os\n",
    "os.chdir(\"C://Users/aaa/Desktop/test\")\n",
    "! git clone https://github.com/anilkumar4274/artificial7intelligence.git artificial7intelligence\n",
    "import git\n",
    "repo = git.Repo(\"artificial7intelligence\")\n",
    "repo.git.add(\"bla.txt\")\n",
    "repo.git.commit('bla.txt')\n",
    "#repo.git.pull('origin', master)\n",
    "#repo.git.push('origin', master)"
   ]
  },
  {
   "cell_type": "code",
   "execution_count": 10,
   "metadata": {},
   "outputs": [],
   "source": [
    "import os\n",
    "import subprocess\n",
    " \n",
    "def execute_shell_command(cmd, work_dir):\n",
    "    \"\"\"Executes a shell command in a subprocess, waiting until it has completed.\n",
    " \n",
    "    :param cmd: Command to execute.\n",
    "    :param work_dir: Working directory path.\n",
    "    \"\"\"\n",
    "    pipe = subprocess.Popen(cmd, shell=True, cwd=work_dir, stdout=subprocess.PIPE, stderr=subprocess.PIPE)\n",
    "    (out, error) = pipe.communicate()\n",
    "    print(out, error)\n",
    "    pipe.wait()\n",
    " \n",
    " \n",
    "def git_add(file_path, repo_dir):\n",
    "    \"\"\"Adds the file at supplied path to the Git index.\n",
    "    File will not be copied to the repository directory.\n",
    "    No control is performed to ensure that the file is located in the repository directory.\n",
    " \n",
    "    :param file_path: Path to file to add to Git index.\n",
    "    :param repo_dir: Repository directory.\n",
    "    \"\"\"\n",
    "    cmd = 'git add ' + file_path\n",
    "    execute_shell_command(cmd, repo_dir)\n",
    " \n",
    " \n",
    "def git_commit(commit_message, repo_dir):\n",
    "    \"\"\"Commits the Git repository located in supplied repository directory with the supplied commit message.\n",
    " \n",
    "    :param commit_message: Commit message.\n",
    "    :param repo_dir: Directory containing Git repository to commit.\n",
    "    \"\"\"\n",
    "    cmd = 'git commit -am \"%s\"' % commit_message\n",
    "    execute_shell_command(cmd, repo_dir)"
   ]
  },
  {
   "cell_type": "code",
   "execution_count": 15,
   "metadata": {},
   "outputs": [
    {
     "name": "stdout",
     "output_type": "stream",
     "text": [
      "b'' b\"Cloning into 'artificial7intelligence'...\\n\"\n"
     ]
    }
   ],
   "source": [
    "os.chdir(\"C://Users/aaa/Desktop/test\")\n",
    "execute_shell_command('git clone https://github.com/anilkumar4274/artificial7intelligence.git', \"C://Users/aaa/Desktop/test/\")"
   ]
  },
  {
   "cell_type": "code",
   "execution_count": null,
   "metadata": {},
   "outputs": [],
   "source": []
  }
 ],
 "metadata": {
  "kernelspec": {
   "display_name": "Python 3",
   "language": "python",
   "name": "python3"
  },
  "language_info": {
   "codemirror_mode": {
    "name": "ipython",
    "version": 3
   },
   "file_extension": ".py",
   "mimetype": "text/x-python",
   "name": "python",
   "nbconvert_exporter": "python",
   "pygments_lexer": "ipython3",
   "version": "3.7.3"
  }
 },
 "nbformat": 4,
 "nbformat_minor": 2
}
