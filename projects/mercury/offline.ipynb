{
 "cells": [
  {
   "cell_type": "markdown",
   "metadata": {},
   "source": [
    "# Downloads all the stocks to local location"
   ]
  },
  {
   "cell_type": "code",
   "execution_count": 37,
   "metadata": {},
   "outputs": [],
   "source": [
    "#Load the dataframe \n",
    "import numpy as np\n",
    "import pandas as pd\n",
    "import requests\n",
    "import re\n",
    "import pandas as pd\n",
    "from bs4 import BeautifulSoup\n",
    "import datetime\n",
    "import time\n",
    "import subprocess\n",
    "Base_url=(\"https://zerodha.com/margin-calculator/Equity/\")\n",
    "page=requests.get(Base_url)\n",
    "soup=BeautifulSoup(page.content,'html.parser')\n",
    "table = soup.find('table', attrs={'class':'data equity'})\n",
    "table_body = table.find('tbody')\n",
    "\n",
    "rows = soup.find_all('tr')\n",
    "data = []\n",
    "for row in rows:\n",
    "    cols = row.find_all('td')\n",
    "    cols = [ele.text.strip() for ele in cols]\n",
    "    data.append([ele for ele in cols if ele]) # Get rid of empty values\n",
    "\n",
    "df = pd.DataFrame(data = data)\n",
    "\n",
    "company_symbol = []\n",
    "[company_symbol.append(df.loc[i][1][:-3:]) for i in range(len(df)) if df.loc[i][3] == \"12.5x\"]\n",
    "x=company_symbol\n",
    "y=['BHARATFIN','TIFIN','VIJAYABANK']\n",
    "company_symbol1=[item for item in x if item not in y]\n",
    "company_symbol2=[item.replace('&','%26') for item in company_symbol1]\n",
    "#baseURL='https://www.nseindia.com/live_market/dynaContent/live_watch/get_quote/GetQuote.jsp?symbol='\n",
    "#for i in company_symbol2[:]:\n",
    "    #textfile = subprocess.check_output(['curl','-o',i+'.txt','-O', baseURL+i])"
   ]
  },
  {
   "cell_type": "markdown",
   "metadata": {},
   "source": [
    "# Analysis of the stocks"
   ]
  },
  {
   "cell_type": "code",
   "execution_count": 38,
   "metadata": {
    "scrolled": false
   },
   "outputs": [],
   "source": [
    "from datetime import datetime\n",
    "\n",
    "def job_function2():\n",
    "    start_time = datetime.now()\n",
    "    symbol_list = []\n",
    "    buy_list = []\n",
    "    sell_list = []\n",
    "    lastP_list = []\n",
    "    for i in company_symbol2[:]:\n",
    "        f = open(i+\".txt\",\"r\")\n",
    "        file = str(f.read())\n",
    "        beg = file.find('[{')\n",
    "        end = file.find('}]')\n",
    "        trial = file[beg+1:end+1]\n",
    "        f.close()\n",
    "        trial = trial.replace('false','\"false\"').replace('true','\"true\"')\n",
    "        trial = eval(trial)\n",
    "\n",
    "        symbol_list.append(trial[\"symbol\"])\n",
    "        buy_list.append(trial[\"totalBuyQuantity\"])\n",
    "        sell_list.append(trial[\"totalSellQuantity\"])\n",
    "        lastP_list.append(trial[\"lastPrice\"])\n",
    "    \n",
    "    global scheduler, count\n",
    "\n",
    "    df[\"symbol\"] = symbol_list\n",
    "    df[\"buy\"] = buy_list\n",
    "    df[\"sell\"] = sell_list\n",
    "    df[\"lastP\"] = lastP_list\n",
    "    df['sell']=[x.replace('-','0').replace(',','') for x in df['sell']]\n",
    "    df['buy']=[x.replace('-','0').replace(',','') for x in df['buy']]\n",
    " \n",
    "    currentDT = datetime.now()\n",
    "    df['time']=currentDT.strftime(\"%H:%M\")\n",
    "    \n",
    "    if count==0:\n",
    "        df[\"bs\"+str(count)] = np.where(df[\"sell\"]>=df[\"buy\"],\"S\",\"B\")\n",
    "    else:\n",
    "        df[\"bs\"+str(count)] = np.where(df[\"sell\"]>=df[\"buy\"],\"S\",\"B\")\n",
    "        result[\"bs\"+str(count)] = np.where(df[\"bs\"+str(count)]==df[\"bs\"+str(count-1)],\"S\",df[\"symbol\"]+df[\"time\"])\n",
    "\n",
    "    df.to_csv(\"all\"+str(count)+\".csv\")\n",
    "    end_time = datetime.now()\n",
    "    print('Duration: {}'.format(end_time - start_time))\n",
    "    \n",
    "    count+=1\n",
    "    \n",
    "    if count == 10:\n",
    "        scheduler.shutdown(wait = False)"
   ]
  },
  {
   "cell_type": "code",
   "execution_count": 39,
   "metadata": {},
   "outputs": [
    {
     "name": "stdout",
     "output_type": "stream",
     "text": [
      "Requirement already satisfied: apscheduler in c:\\users\\admin\\appdata\\local\\continuum\\anaconda3\\lib\\site-packages (3.6.1)\n",
      "Requirement already satisfied: pytz in c:\\users\\admin\\appdata\\local\\continuum\\anaconda3\\lib\\site-packages (from apscheduler) (2018.9)\n",
      "Requirement already satisfied: six>=1.4.0 in c:\\users\\admin\\appdata\\local\\continuum\\anaconda3\\lib\\site-packages (from apscheduler) (1.12.0)\n",
      "Requirement already satisfied: tzlocal>=1.2 in c:\\users\\admin\\appdata\\local\\continuum\\anaconda3\\lib\\site-packages (from apscheduler) (2.0.0)\n",
      "Requirement already satisfied: setuptools>=0.7 in c:\\users\\admin\\appdata\\local\\continuum\\anaconda3\\lib\\site-packages (from apscheduler) (40.8.0)\n"
     ]
    }
   ],
   "source": [
    "!pip install apscheduler"
   ]
  },
  {
   "cell_type": "code",
   "execution_count": 40,
   "metadata": {},
   "outputs": [],
   "source": [
    "import pandas as pd\n",
    "from datetime import datetime\n",
    "from apscheduler.schedulers.background import BackgroundScheduler\n",
    "count = 0\n",
    "\n",
    "df = pd.DataFrame(columns = [\"symbol\",\"buy\",\"sell\",\"lastP\",\"time\"])  \n",
    "result = pd.DataFrame(columns = [\"symbol\"])\n",
    "scheduler = BackgroundScheduler()\n",
    "\n",
    "scheduler.add_job(job_function2, 'interval', seconds = 300, start_date='2019-08-08 13:17:00', end_date='2019-08-08 13:21:00', id='my_job_id')\n",
    "\n",
    "try:\n",
    "    scheduler.start()\n",
    "except apscheduler.schedulers.SchedulerNotRunningError as e:\n",
    "    print('program exited')"
   ]
  },
  {
   "cell_type": "markdown",
   "metadata": {},
   "source": [
    "# Removes all the files present in the directory"
   ]
  },
  {
   "cell_type": "code",
   "execution_count": 41,
   "metadata": {},
   "outputs": [],
   "source": [
    "import os\n",
    "\n",
    "# Return all files in dir, and all its subdirectories, ending in pattern\n",
    "def gen_files(dir, txt):\n",
    "    for dirname, subdirs, files in os.walk(dir):\n",
    "        for f in files:\n",
    "            if f.endswith(txt):\n",
    "                yield os.path.join(dir, f)\n",
    "\n",
    "# Remove all files in the current dir matching *.config\n",
    "for f in gen_files('.', '.txt'):\n",
    "    os.remove(f)"
   ]
  },
  {
   "cell_type": "code",
   "execution_count": 42,
   "metadata": {},
   "outputs": [
    {
     "data": {
      "text/html": [
       "<div>\n",
       "<style scoped>\n",
       "    .dataframe tbody tr th:only-of-type {\n",
       "        vertical-align: middle;\n",
       "    }\n",
       "\n",
       "    .dataframe tbody tr th {\n",
       "        vertical-align: top;\n",
       "    }\n",
       "\n",
       "    .dataframe thead th {\n",
       "        text-align: right;\n",
       "    }\n",
       "</style>\n",
       "<table border=\"1\" class=\"dataframe\">\n",
       "  <thead>\n",
       "    <tr style=\"text-align: right;\">\n",
       "      <th></th>\n",
       "      <th>symbol</th>\n",
       "      <th>buy</th>\n",
       "      <th>sell</th>\n",
       "      <th>lastP</th>\n",
       "      <th>time</th>\n",
       "    </tr>\n",
       "  </thead>\n",
       "  <tbody>\n",
       "  </tbody>\n",
       "</table>\n",
       "</div>"
      ],
      "text/plain": [
       "Empty DataFrame\n",
       "Columns: [symbol, buy, sell, lastP, time]\n",
       "Index: []"
      ]
     },
     "execution_count": 42,
     "metadata": {},
     "output_type": "execute_result"
    }
   ],
   "source": [
    "df"
   ]
  },
  {
   "cell_type": "code",
   "execution_count": null,
   "metadata": {},
   "outputs": [],
   "source": []
  },
  {
   "cell_type": "code",
   "execution_count": null,
   "metadata": {},
   "outputs": [],
   "source": []
  }
 ],
 "metadata": {
  "kernelspec": {
   "display_name": "Python 3",
   "language": "python",
   "name": "python3"
  },
  "language_info": {
   "codemirror_mode": {
    "name": "ipython",
    "version": 3
   },
   "file_extension": ".py",
   "mimetype": "text/x-python",
   "name": "python",
   "nbconvert_exporter": "python",
   "pygments_lexer": "ipython3",
   "version": "3.7.3"
  }
 },
 "nbformat": 4,
 "nbformat_minor": 2
}
