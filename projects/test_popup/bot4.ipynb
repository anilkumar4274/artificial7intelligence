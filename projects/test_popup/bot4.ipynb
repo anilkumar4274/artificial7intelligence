{
 "cells": [
  {
   "cell_type": "code",
   "execution_count": 1,
   "metadata": {},
   "outputs": [
    {
     "name": "stdout",
     "output_type": "stream",
     "text": [
      "Collecting pymsgbox\n",
      "  Downloading https://files.pythonhosted.org/packages/ac/e0/0ac1ac67178a71b92e46f46788ddd799bb40bff40acd60c47c50be170374/PyMsgBox-1.0.7.tar.gz\n",
      "Building wheels for collected packages: pymsgbox\n",
      "  Building wheel for pymsgbox (setup.py): started\n",
      "  Building wheel for pymsgbox (setup.py): finished with status 'done'\n",
      "  Stored in directory: C:\\Users\\admin\\AppData\\Local\\pip\\Cache\\wheels\\8e\\62\\9f\\951a04461ec012e443f9aa172598fc8f9c6e409bf753687fad\n",
      "Successfully built pymsgbox\n",
      "Installing collected packages: pymsgbox\n",
      "Successfully installed pymsgbox-1.0.7\n"
     ]
    }
   ],
   "source": [
    "!pip install pymsgbox"
   ]
  },
  {
   "cell_type": "code",
   "execution_count": 2,
   "metadata": {},
   "outputs": [
    {
     "name": "stdout",
     "output_type": "stream",
     "text": [
      "Email id: likki.navin@gmail.com\n",
      "Password: 9014126524\n"
     ]
    }
   ],
   "source": [
    "import pymsgbox\n",
    "import ctypes\n",
    "ctypes.windll.user32.MessageBoxW(0, \"welcome to Anil sir's Data Science class\", \"Hurray!!\",64 )\n",
    "s = pymsgbox.prompt('enter your name','Title')\n",
    "pymsgbox.alert('Welcome '+s, 'Title')\n",
    "response1 = pymsgbox.prompt('enter your Email id','Gmail verification')\n",
    "response2 = pymsgbox.prompt('enter your password','Gmail verification')\n",
    "#pymsgbox.alert(s+'!! Your data is hacked and is with Gopi now!!', 'Alert!!')\n",
    "ctypes.windll.user32.MessageBoxW(0, s+'!! Your data is hacked and is with Gopi now!!', 'Alert!!',16 )\n",
    "print(\"Email id: \"+response1)\n",
    "print(\"Password: \"+response2)"
   ]
  },
  {
   "cell_type": "code",
   "execution_count": 2,
   "metadata": {},
   "outputs": [],
   "source": [
    "## Button styles:\n",
    "# 0 : OK\n",
    "# 1 : OK | Cancel\n",
    "# 2 : Abort | Retry | Ignore\n",
    "# 3 : Yes | No | Cancel\n",
    "# 4 : Yes | No\n",
    "# 5 : Retry | No \n",
    "# 6 : Cancel | Try Again | Continue\n",
    "\n",
    "## To also change icon, add these values to previous number\n",
    "# 16 Stop-sign icon\n",
    "# 32 Question-mark icon\n",
    "# 48 Exclamation-point icon\n",
    "# 64 Information-sign icon consisting of an 'i' in a circle"
   ]
  },
  {
   "cell_type": "code",
   "execution_count": null,
   "metadata": {},
   "outputs": [],
   "source": []
  }
 ],
 "metadata": {
  "kernelspec": {
   "display_name": "Python 3",
   "language": "python",
   "name": "python3"
  },
  "language_info": {
   "codemirror_mode": {
    "name": "ipython",
    "version": 3
   },
   "file_extension": ".py",
   "mimetype": "text/x-python",
   "name": "python",
   "nbconvert_exporter": "python",
   "pygments_lexer": "ipython3",
   "version": "3.7.3"
  }
 },
 "nbformat": 4,
 "nbformat_minor": 2
}
