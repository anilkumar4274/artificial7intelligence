{
 "cells": [
  {
   "cell_type": "code",
   "execution_count": 6,
   "metadata": {},
   "outputs": [],
   "source": [
    "from tkinter import *                       \n",
    "from random import choice                       \n",
    "                                    \n",
    "ask   = [\"hi\", \"hello\"]                         \n",
    "hi    = [\"hi\", \"hello\", \"Hello too\",\"handsome\"]                    \n",
    "error = [\"sorry, i don't know\", \"what u said?\" ]            \n",
    "                                                                    \n",
    "root = Tk()                             \n",
    "user = StringVar()                          \n",
    "bot  = StringVar()                          \n",
    "                                    \n",
    "root.title(\" Simple ChatBot \")                  \n",
    "Label(root, text=\" user : \").pack(side=LEFT)                \n",
    "Entry(root, textvariable=user).pack(side=LEFT)          \n",
    "Label(root, text=\" Bot  : \").pack(side=LEFT)                \n",
    "Entry(root, textvariable=bot).pack(side=LEFT)               \n",
    "                            \n",
    "                                \n",
    "def main():                             \n",
    "       question = user.get()                        \n",
    "       if question in ask:                      \n",
    "             bot.set(choice(hi))                    \n",
    "       else:                                \n",
    "             bot.set(choice(error))                 \n",
    "                                \n",
    "Button(root, text=\"speak\", command=main).pack(side=LEFT)        \n",
    "                                    \n",
    "mainloop()                              "
   ]
  },
  {
   "cell_type": "code",
   "execution_count": null,
   "metadata": {},
   "outputs": [],
   "source": []
  }
 ],
 "metadata": {
  "kernelspec": {
   "display_name": "Python 3",
   "language": "python",
   "name": "python3"
  },
  "language_info": {
   "codemirror_mode": {
    "name": "ipython",
    "version": 3
   },
   "file_extension": ".py",
   "mimetype": "text/x-python",
   "name": "python",
   "nbconvert_exporter": "python",
   "pygments_lexer": "ipython3",
   "version": "3.7.3"
  }
 },
 "nbformat": 4,
 "nbformat_minor": 2
}
