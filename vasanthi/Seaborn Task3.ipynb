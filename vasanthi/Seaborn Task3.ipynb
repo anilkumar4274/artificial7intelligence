{
 "cells": [
  {
   "cell_type": "code",
   "execution_count": 1,
   "metadata": {},
   "outputs": [],
   "source": [
    "import numpy as np\n",
    "import pandas as pd\n",
    "import seaborn as sn\n",
    "import matplotlib.pyplot as plt\n",
    "import re\n"
   ]
  },
  {
   "cell_type": "code",
   "execution_count": 2,
   "metadata": {},
   "outputs": [],
   "source": [
    "df=pd.read_csv('Movies.csv')"
   ]
  },
  {
   "cell_type": "code",
   "execution_count": 3,
   "metadata": {},
   "outputs": [
    {
     "data": {
      "text/html": [
       "<div>\n",
       "<style scoped>\n",
       "    .dataframe tbody tr th:only-of-type {\n",
       "        vertical-align: middle;\n",
       "    }\n",
       "\n",
       "    .dataframe tbody tr th {\n",
       "        vertical-align: top;\n",
       "    }\n",
       "\n",
       "    .dataframe thead th {\n",
       "        text-align: right;\n",
       "    }\n",
       "</style>\n",
       "<table border=\"1\" class=\"dataframe\">\n",
       "  <thead>\n",
       "    <tr style=\"text-align: right;\">\n",
       "      <th></th>\n",
       "      <th>Movie name</th>\n",
       "      <th>price</th>\n",
       "      <th>Rating</th>\n",
       "      <th>Yrows</th>\n",
       "      <th>Xcols</th>\n",
       "      <th>type</th>\n",
       "      <th>Hero</th>\n",
       "      <th>Heroine</th>\n",
       "    </tr>\n",
       "  </thead>\n",
       "  <tbody>\n",
       "    <tr>\n",
       "      <th>0</th>\n",
       "      <td>Evaru</td>\n",
       "      <td>80</td>\n",
       "      <td>4.5</td>\n",
       "      <td>1</td>\n",
       "      <td>1</td>\n",
       "      <td>Thriller/Drama</td>\n",
       "      <td>adaviseshu</td>\n",
       "      <td>Regina</td>\n",
       "    </tr>\n",
       "    <tr>\n",
       "      <th>1</th>\n",
       "      <td>Dear comrade</td>\n",
       "      <td>50</td>\n",
       "      <td>3.0</td>\n",
       "      <td>1</td>\n",
       "      <td>2</td>\n",
       "      <td>Intense love story</td>\n",
       "      <td>Vijay Devarakonda</td>\n",
       "      <td>Rashmika</td>\n",
       "    </tr>\n",
       "    <tr>\n",
       "      <th>2</th>\n",
       "      <td>Manmadudu2</td>\n",
       "      <td>188</td>\n",
       "      <td>3.7</td>\n",
       "      <td>1</td>\n",
       "      <td>3</td>\n",
       "      <td>Drama/Romance</td>\n",
       "      <td>Nagarjuna</td>\n",
       "      <td>Rakool</td>\n",
       "    </tr>\n",
       "    <tr>\n",
       "      <th>3</th>\n",
       "      <td>Ranarangam</td>\n",
       "      <td>87</td>\n",
       "      <td>3.0</td>\n",
       "      <td>1</td>\n",
       "      <td>4</td>\n",
       "      <td>Action crime film</td>\n",
       "      <td>sharwanand</td>\n",
       "      <td>kajal,kalyani</td>\n",
       "    </tr>\n",
       "    <tr>\n",
       "      <th>4</th>\n",
       "      <td>guna369</td>\n",
       "      <td>120</td>\n",
       "      <td>4.0</td>\n",
       "      <td>1</td>\n",
       "      <td>5</td>\n",
       "      <td>Drama/Action</td>\n",
       "      <td>Karthikeya</td>\n",
       "      <td>Anagha</td>\n",
       "    </tr>\n",
       "    <tr>\n",
       "      <th>5</th>\n",
       "      <td>Rakshasudu</td>\n",
       "      <td>145</td>\n",
       "      <td>4.5</td>\n",
       "      <td>2</td>\n",
       "      <td>1</td>\n",
       "      <td>Drama/Thriller</td>\n",
       "      <td>Bellamkonda srinivas</td>\n",
       "      <td>Anupama</td>\n",
       "    </tr>\n",
       "    <tr>\n",
       "      <th>6</th>\n",
       "      <td>Ismartsankar</td>\n",
       "      <td>140</td>\n",
       "      <td>4.5</td>\n",
       "      <td>2</td>\n",
       "      <td>2</td>\n",
       "      <td>Action/Romance</td>\n",
       "      <td>Ram</td>\n",
       "      <td>Nabha natesha,Nidhi agarwal</td>\n",
       "    </tr>\n",
       "    <tr>\n",
       "      <th>7</th>\n",
       "      <td>Oh baby</td>\n",
       "      <td>69</td>\n",
       "      <td>3.0</td>\n",
       "      <td>2</td>\n",
       "      <td>3</td>\n",
       "      <td>Drama/Fantacy</td>\n",
       "      <td>Naga shaurya</td>\n",
       "      <td>Samantha</td>\n",
       "    </tr>\n",
       "    <tr>\n",
       "      <th>8</th>\n",
       "      <td>Agent sai srinivas</td>\n",
       "      <td>80</td>\n",
       "      <td>4.5</td>\n",
       "      <td>2</td>\n",
       "      <td>4</td>\n",
       "      <td>Drama/Thriller</td>\n",
       "      <td>Naveen Polisetty</td>\n",
       "      <td>Shruthi Sharma</td>\n",
       "    </tr>\n",
       "    <tr>\n",
       "      <th>9</th>\n",
       "      <td>maharshi</td>\n",
       "      <td>70</td>\n",
       "      <td>4.0</td>\n",
       "      <td>2</td>\n",
       "      <td>5</td>\n",
       "      <td>Drama/Triller</td>\n",
       "      <td>Mahesh Babu</td>\n",
       "      <td>Pooja Hegde</td>\n",
       "    </tr>\n",
       "  </tbody>\n",
       "</table>\n",
       "</div>"
      ],
      "text/plain": [
       "           Movie name  price  Rating  Yrows  Xcols                type  \\\n",
       "0               Evaru     80     4.5      1      1      Thriller/Drama   \n",
       "1        Dear comrade     50     3.0      1      2  Intense love story   \n",
       "2          Manmadudu2    188     3.7      1      3       Drama/Romance   \n",
       "3          Ranarangam     87     3.0      1      4   Action crime film   \n",
       "4             guna369    120     4.0      1      5        Drama/Action   \n",
       "5          Rakshasudu    145     4.5      2      1      Drama/Thriller   \n",
       "6        Ismartsankar    140     4.5      2      2      Action/Romance   \n",
       "7             Oh baby     69     3.0      2      3       Drama/Fantacy   \n",
       "8  Agent sai srinivas     80     4.5      2      4      Drama/Thriller   \n",
       "9            maharshi     70     4.0      2      5       Drama/Triller   \n",
       "\n",
       "                   Hero                      Heroine  \n",
       "0            adaviseshu                       Regina  \n",
       "1     Vijay Devarakonda                     Rashmika  \n",
       "2             Nagarjuna                       Rakool  \n",
       "3            sharwanand                kajal,kalyani  \n",
       "4            Karthikeya                       Anagha  \n",
       "5  Bellamkonda srinivas                      Anupama  \n",
       "6                   Ram  Nabha natesha,Nidhi agarwal  \n",
       "7          Naga shaurya                     Samantha  \n",
       "8      Naveen Polisetty               Shruthi Sharma  \n",
       "9           Mahesh Babu                  Pooja Hegde  "
      ]
     },
     "execution_count": 3,
     "metadata": {},
     "output_type": "execute_result"
    }
   ],
   "source": [
    "df"
   ]
  },
  {
   "cell_type": "code",
   "execution_count": 4,
   "metadata": {},
   "outputs": [],
   "source": [
    "df.rename({'Movie name':'Movie'},axis=1,inplace=True)"
   ]
  },
  {
   "cell_type": "code",
   "execution_count": 5,
   "metadata": {},
   "outputs": [
    {
     "data": {
      "text/html": [
       "<div>\n",
       "<style scoped>\n",
       "    .dataframe tbody tr th:only-of-type {\n",
       "        vertical-align: middle;\n",
       "    }\n",
       "\n",
       "    .dataframe tbody tr th {\n",
       "        vertical-align: top;\n",
       "    }\n",
       "\n",
       "    .dataframe thead th {\n",
       "        text-align: right;\n",
       "    }\n",
       "</style>\n",
       "<table border=\"1\" class=\"dataframe\">\n",
       "  <thead>\n",
       "    <tr style=\"text-align: right;\">\n",
       "      <th></th>\n",
       "      <th>Movie</th>\n",
       "      <th>price</th>\n",
       "      <th>Rating</th>\n",
       "      <th>Yrows</th>\n",
       "      <th>Xcols</th>\n",
       "      <th>type</th>\n",
       "      <th>Hero</th>\n",
       "      <th>Heroine</th>\n",
       "    </tr>\n",
       "  </thead>\n",
       "  <tbody>\n",
       "    <tr>\n",
       "      <th>0</th>\n",
       "      <td>Evaru</td>\n",
       "      <td>80</td>\n",
       "      <td>4.5</td>\n",
       "      <td>1</td>\n",
       "      <td>1</td>\n",
       "      <td>Thriller/Drama</td>\n",
       "      <td>adaviseshu</td>\n",
       "      <td>Regina</td>\n",
       "    </tr>\n",
       "    <tr>\n",
       "      <th>1</th>\n",
       "      <td>Dear comrade</td>\n",
       "      <td>50</td>\n",
       "      <td>3.0</td>\n",
       "      <td>1</td>\n",
       "      <td>2</td>\n",
       "      <td>Intense love story</td>\n",
       "      <td>Vijay Devarakonda</td>\n",
       "      <td>Rashmika</td>\n",
       "    </tr>\n",
       "    <tr>\n",
       "      <th>2</th>\n",
       "      <td>Manmadudu2</td>\n",
       "      <td>188</td>\n",
       "      <td>3.7</td>\n",
       "      <td>1</td>\n",
       "      <td>3</td>\n",
       "      <td>Drama/Romance</td>\n",
       "      <td>Nagarjuna</td>\n",
       "      <td>Rakool</td>\n",
       "    </tr>\n",
       "    <tr>\n",
       "      <th>3</th>\n",
       "      <td>Ranarangam</td>\n",
       "      <td>87</td>\n",
       "      <td>3.0</td>\n",
       "      <td>1</td>\n",
       "      <td>4</td>\n",
       "      <td>Action crime film</td>\n",
       "      <td>sharwanand</td>\n",
       "      <td>kajal,kalyani</td>\n",
       "    </tr>\n",
       "    <tr>\n",
       "      <th>4</th>\n",
       "      <td>guna369</td>\n",
       "      <td>120</td>\n",
       "      <td>4.0</td>\n",
       "      <td>1</td>\n",
       "      <td>5</td>\n",
       "      <td>Drama/Action</td>\n",
       "      <td>Karthikeya</td>\n",
       "      <td>Anagha</td>\n",
       "    </tr>\n",
       "    <tr>\n",
       "      <th>5</th>\n",
       "      <td>Rakshasudu</td>\n",
       "      <td>145</td>\n",
       "      <td>4.5</td>\n",
       "      <td>2</td>\n",
       "      <td>1</td>\n",
       "      <td>Drama/Thriller</td>\n",
       "      <td>Bellamkonda srinivas</td>\n",
       "      <td>Anupama</td>\n",
       "    </tr>\n",
       "    <tr>\n",
       "      <th>6</th>\n",
       "      <td>Ismartsankar</td>\n",
       "      <td>140</td>\n",
       "      <td>4.5</td>\n",
       "      <td>2</td>\n",
       "      <td>2</td>\n",
       "      <td>Action/Romance</td>\n",
       "      <td>Ram</td>\n",
       "      <td>Nabha natesha,Nidhi agarwal</td>\n",
       "    </tr>\n",
       "    <tr>\n",
       "      <th>7</th>\n",
       "      <td>Oh baby</td>\n",
       "      <td>69</td>\n",
       "      <td>3.0</td>\n",
       "      <td>2</td>\n",
       "      <td>3</td>\n",
       "      <td>Drama/Fantacy</td>\n",
       "      <td>Naga shaurya</td>\n",
       "      <td>Samantha</td>\n",
       "    </tr>\n",
       "    <tr>\n",
       "      <th>8</th>\n",
       "      <td>Agent sai srinivas</td>\n",
       "      <td>80</td>\n",
       "      <td>4.5</td>\n",
       "      <td>2</td>\n",
       "      <td>4</td>\n",
       "      <td>Drama/Thriller</td>\n",
       "      <td>Naveen Polisetty</td>\n",
       "      <td>Shruthi Sharma</td>\n",
       "    </tr>\n",
       "    <tr>\n",
       "      <th>9</th>\n",
       "      <td>maharshi</td>\n",
       "      <td>70</td>\n",
       "      <td>4.0</td>\n",
       "      <td>2</td>\n",
       "      <td>5</td>\n",
       "      <td>Drama/Triller</td>\n",
       "      <td>Mahesh Babu</td>\n",
       "      <td>Pooja Hegde</td>\n",
       "    </tr>\n",
       "  </tbody>\n",
       "</table>\n",
       "</div>"
      ],
      "text/plain": [
       "                Movie  price  Rating  Yrows  Xcols                type  \\\n",
       "0               Evaru     80     4.5      1      1      Thriller/Drama   \n",
       "1        Dear comrade     50     3.0      1      2  Intense love story   \n",
       "2          Manmadudu2    188     3.7      1      3       Drama/Romance   \n",
       "3          Ranarangam     87     3.0      1      4   Action crime film   \n",
       "4             guna369    120     4.0      1      5        Drama/Action   \n",
       "5          Rakshasudu    145     4.5      2      1      Drama/Thriller   \n",
       "6        Ismartsankar    140     4.5      2      2      Action/Romance   \n",
       "7             Oh baby     69     3.0      2      3       Drama/Fantacy   \n",
       "8  Agent sai srinivas     80     4.5      2      4      Drama/Thriller   \n",
       "9            maharshi     70     4.0      2      5       Drama/Triller   \n",
       "\n",
       "                   Hero                      Heroine  \n",
       "0            adaviseshu                       Regina  \n",
       "1     Vijay Devarakonda                     Rashmika  \n",
       "2             Nagarjuna                       Rakool  \n",
       "3            sharwanand                kajal,kalyani  \n",
       "4            Karthikeya                       Anagha  \n",
       "5  Bellamkonda srinivas                      Anupama  \n",
       "6                   Ram  Nabha natesha,Nidhi agarwal  \n",
       "7          Naga shaurya                     Samantha  \n",
       "8      Naveen Polisetty               Shruthi Sharma  \n",
       "9           Mahesh Babu                  Pooja Hegde  "
      ]
     },
     "execution_count": 5,
     "metadata": {},
     "output_type": "execute_result"
    }
   ],
   "source": [
    "df"
   ]
  },
  {
   "cell_type": "code",
   "execution_count": 6,
   "metadata": {},
   "outputs": [],
   "source": [
    "movie=(np.asarray(df['Movie'])).reshape(2,5)"
   ]
  },
  {
   "cell_type": "code",
   "execution_count": 7,
   "metadata": {},
   "outputs": [
    {
     "data": {
      "text/plain": [
       "array([['Evaru', 'Dear comrade', 'Manmadudu2', 'Ranarangam', 'guna369'],\n",
       "       ['Rakshasudu', 'Ismartsankar', 'Oh baby', 'Agent sai srinivas',\n",
       "        'maharshi']], dtype=object)"
      ]
     },
     "execution_count": 7,
     "metadata": {},
     "output_type": "execute_result"
    }
   ],
   "source": [
    "movie"
   ]
  },
  {
   "cell_type": "code",
   "execution_count": 8,
   "metadata": {},
   "outputs": [
    {
     "data": {
      "text/plain": [
       "array([[ 80,  50, 188,  87, 120],\n",
       "       [145, 140,  69,  80,  70]], dtype=int64)"
      ]
     },
     "execution_count": 8,
     "metadata": {},
     "output_type": "execute_result"
    }
   ],
   "source": [
    "price=(np.asarray(df['price'])).reshape(2,5)\n",
    "price"
   ]
  },
  {
   "cell_type": "code",
   "execution_count": 9,
   "metadata": {},
   "outputs": [
    {
     "name": "stdout",
     "output_type": "stream",
     "text": [
      "[[4.5 3.  3.7 3.  4. ]\n",
      " [4.5 4.5 3.  4.5 4. ]]\n",
      "[['Thriller/Drama' 'Intense love story' 'Drama/Romance'\n",
      "  'Action crime film' 'Drama/Action']\n",
      " ['Drama/Thriller' 'Action/Romance' 'Drama/Fantacy' 'Drama/Thriller'\n",
      "  'Drama/Triller']]\n",
      "[['adaviseshu' 'Vijay Devarakonda' 'Nagarjuna' 'sharwanand' 'Karthikeya']\n",
      " ['Bellamkonda srinivas' 'Ram' 'Naga shaurya' 'Naveen Polisetty'\n",
      "  'Mahesh Babu']]\n",
      "[['Regina' 'Rashmika' 'Rakool' 'kajal,kalyani' 'Anagha']\n",
      " ['Anupama' 'Nabha natesha,Nidhi agarwal' 'Samantha' 'Shruthi Sharma'\n",
      "  'Pooja Hegde']]\n"
     ]
    }
   ],
   "source": [
    "rating=(np.asarray(df['Rating'])).reshape(2,5)\n",
    "typ=(np.asarray(df['type'])).reshape(2,5)\n",
    "hero=(np.asarray(df['Hero'])).reshape(2,5)\n",
    "heroine=(np.asarray(df['Heroine'])).reshape(2,5)\n",
    "print(rating)\n",
    "print(typ)\n",
    "print(hero)\n",
    "print(heroine)"
   ]
  },
  {
   "cell_type": "code",
   "execution_count": 10,
   "metadata": {},
   "outputs": [],
   "source": [
    "result=df.pivot(index='Yrows',columns='Xcols',values='Rating')"
   ]
  },
  {
   "cell_type": "code",
   "execution_count": 11,
   "metadata": {},
   "outputs": [
    {
     "data": {
      "text/html": [
       "<div>\n",
       "<style scoped>\n",
       "    .dataframe tbody tr th:only-of-type {\n",
       "        vertical-align: middle;\n",
       "    }\n",
       "\n",
       "    .dataframe tbody tr th {\n",
       "        vertical-align: top;\n",
       "    }\n",
       "\n",
       "    .dataframe thead th {\n",
       "        text-align: right;\n",
       "    }\n",
       "</style>\n",
       "<table border=\"1\" class=\"dataframe\">\n",
       "  <thead>\n",
       "    <tr style=\"text-align: right;\">\n",
       "      <th>Xcols</th>\n",
       "      <th>1</th>\n",
       "      <th>2</th>\n",
       "      <th>3</th>\n",
       "      <th>4</th>\n",
       "      <th>5</th>\n",
       "    </tr>\n",
       "    <tr>\n",
       "      <th>Yrows</th>\n",
       "      <th></th>\n",
       "      <th></th>\n",
       "      <th></th>\n",
       "      <th></th>\n",
       "      <th></th>\n",
       "    </tr>\n",
       "  </thead>\n",
       "  <tbody>\n",
       "    <tr>\n",
       "      <th>1</th>\n",
       "      <td>4.5</td>\n",
       "      <td>3.0</td>\n",
       "      <td>3.7</td>\n",
       "      <td>3.0</td>\n",
       "      <td>4.0</td>\n",
       "    </tr>\n",
       "    <tr>\n",
       "      <th>2</th>\n",
       "      <td>4.5</td>\n",
       "      <td>4.5</td>\n",
       "      <td>3.0</td>\n",
       "      <td>4.5</td>\n",
       "      <td>4.0</td>\n",
       "    </tr>\n",
       "  </tbody>\n",
       "</table>\n",
       "</div>"
      ],
      "text/plain": [
       "Xcols    1    2    3    4    5\n",
       "Yrows                         \n",
       "1      4.5  3.0  3.7  3.0  4.0\n",
       "2      4.5  4.5  3.0  4.5  4.0"
      ]
     },
     "execution_count": 11,
     "metadata": {},
     "output_type": "execute_result"
    }
   ],
   "source": [
    "result"
   ]
  },
  {
   "cell_type": "code",
   "execution_count": 14,
   "metadata": {},
   "outputs": [],
   "source": [
    "labels=(np.asarray(['{0}   \\n {1} \\n {2} \\n {3} \\n {4} \\n {5}'.format(name,typ,hero,heroine,price,rating) \n",
    "                    for name,typ,hero,heroine,price,rating \n",
    "                    in zip(movie.flatten(),typ.flatten(),hero.flatten(),heroine.flatten(),price.flatten(),rating.flatten())])).reshape(2,5)"
   ]
  },
  {
   "cell_type": "raw",
   "metadata": {},
   "source": [
    "labels=(np.asarray(['{0} \\n {1} '.format(name,price) \n",
    "                    for name,price\n",
    "                    in zip(movie.flatten(),price.flatten())])).reshape(2,5)"
   ]
  },
  {
   "cell_type": "code",
   "execution_count": 15,
   "metadata": {},
   "outputs": [
    {
     "data": {
      "text/plain": [
       "array([['Evaru   \\n Thriller/Drama \\n adaviseshu \\n Regina \\n 80 \\n 4.5',\n",
       "        'Dear comrade   \\n Intense love story \\n Vijay Devarakonda \\n Rashmika \\n 50 \\n 3.0',\n",
       "        'Manmadudu2   \\n Drama/Romance \\n Nagarjuna \\n Rakool \\n 188 \\n 3.7',\n",
       "        'Ranarangam   \\n Action crime film \\n sharwanand \\n kajal,kalyani \\n 87 \\n 3.0',\n",
       "        'guna369   \\n Drama/Action \\n Karthikeya \\n Anagha \\n 120 \\n 4.0'],\n",
       "       ['Rakshasudu   \\n Drama/Thriller \\n Bellamkonda srinivas \\n Anupama \\n 145 \\n 4.5',\n",
       "        'Ismartsankar   \\n Action/Romance \\n Ram \\n Nabha natesha,Nidhi agarwal \\n 140 \\n 4.5',\n",
       "        'Oh baby   \\n Drama/Fantacy \\n Naga shaurya \\n Samantha \\n 69 \\n 3.0',\n",
       "        'Agent sai srinivas   \\n Drama/Thriller \\n Naveen Polisetty \\n Shruthi Sharma \\n 80 \\n 4.5',\n",
       "        'maharshi   \\n Drama/Triller \\n Mahesh Babu \\n Pooja Hegde \\n 70 \\n 4.0']],\n",
       "      dtype='<U84')"
      ]
     },
     "execution_count": 15,
     "metadata": {},
     "output_type": "execute_result"
    }
   ],
   "source": [
    "labels"
   ]
  },
  {
   "cell_type": "code",
   "execution_count": 22,
   "metadata": {},
   "outputs": [
    {
     "data": {
      "image/png": "[encoded data removed]",
      "text/plain": [
       "<Figure size 1224x504 with 2 Axes>"
      ]
     },
     "metadata": {
      "needs_background": "light"
     },
     "output_type": "display_data"
    }
   ],
   "source": [
    "#Heat map\n",
    "fig,ax=plt.subplots(figsize=(17,7))\n",
    "title=\"Movies\"\n",
    "plt.title(title,fontsize=20)\n",
    "tt1=ax.title\n",
    "tt1.set_position([0.5,1.05])\n",
    "ax.set_xticks([])\n",
    "ax.set_yticks([])\n",
    "ax.axis('off')\n",
    "sn.heatmap(result,annot=labels,fmt=\"\",cmap=\"spring_r\",linewidths=0.30,ax=ax)\n",
    "plt.show()\n"
   ]
  },
  {
   "cell_type": "code",
   "execution_count": null,
   "metadata": {},
   "outputs": [],
   "source": []
  },
  {
   "cell_type": "code",
   "execution_count": null,
   "metadata": {},
   "outputs": [],
   "source": []
  }
 ],
 "metadata": {
  "kernelspec": {
   "display_name": "Python 3",
   "language": "python",
   "name": "python3"
  },
  "language_info": {
   "codemirror_mode": {
    "name": "ipython",
    "version": 3
   },
   "file_extension": ".py",
   "mimetype": "text/x-python",
   "name": "python",
   "nbconvert_exporter": "python",
   "pygments_lexer": "ipython3",
   "version": "3.7.3"
  }
 },
 "nbformat": 4,
 "nbformat_minor": 2
}
