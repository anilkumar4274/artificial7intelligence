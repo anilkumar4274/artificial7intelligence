{
 "cells": [
  {
   "cell_type": "code",
   "execution_count": 2,
   "metadata": {},
   "outputs": [],
   "source": [
    "import numpy as np\n",
    "import pandas as pd\n",
    "import re\n",
    "import matplotlib.pyplot as plt\n",
    "import seaborn as sn"
   ]
  },
  {
   "cell_type": "code",
   "execution_count": 3,
   "metadata": {},
   "outputs": [],
   "source": [
    "df=pd.read_csv('health.csv')"
   ]
  },
  {
   "cell_type": "code",
   "execution_count": 4,
   "metadata": {},
   "outputs": [
    {
     "data": {
      "text/html": [
       "<div>\n",
       "<style scoped>\n",
       "    .dataframe tbody tr th:only-of-type {\n",
       "        vertical-align: middle;\n",
       "    }\n",
       "\n",
       "    .dataframe tbody tr th {\n",
       "        vertical-align: top;\n",
       "    }\n",
       "\n",
       "    .dataframe thead th {\n",
       "        text-align: right;\n",
       "    }\n",
       "</style>\n",
       "<table border=\"1\" class=\"dataframe\">\n",
       "  <thead>\n",
       "    <tr style=\"text-align: right;\">\n",
       "      <th></th>\n",
       "      <th>Area</th>\n",
       "      <th>pct_2014</th>\n",
       "      <th>pct_2013</th>\n",
       "      <th>Xrows</th>\n",
       "      <th>Ycols</th>\n",
       "    </tr>\n",
       "  </thead>\n",
       "  <tbody>\n",
       "    <tr>\n",
       "      <th>0</th>\n",
       "      <td>Houston</td>\n",
       "      <td>0.19</td>\n",
       "      <td>0.22</td>\n",
       "      <td>1</td>\n",
       "      <td>1</td>\n",
       "    </tr>\n",
       "    <tr>\n",
       "      <th>1</th>\n",
       "      <td>Miami</td>\n",
       "      <td>0.19</td>\n",
       "      <td>0.24</td>\n",
       "      <td>1</td>\n",
       "      <td>2</td>\n",
       "    </tr>\n",
       "    <tr>\n",
       "      <th>2</th>\n",
       "      <td>Dallas</td>\n",
       "      <td>0.18</td>\n",
       "      <td>0.21</td>\n",
       "      <td>1</td>\n",
       "      <td>3</td>\n",
       "    </tr>\n",
       "    <tr>\n",
       "      <th>3</th>\n",
       "      <td>San Antonio</td>\n",
       "      <td>0.15</td>\n",
       "      <td>0.19</td>\n",
       "      <td>1</td>\n",
       "      <td>4</td>\n",
       "    </tr>\n",
       "    <tr>\n",
       "      <th>4</th>\n",
       "      <td>Atlanta</td>\n",
       "      <td>0.15</td>\n",
       "      <td>0.18</td>\n",
       "      <td>1</td>\n",
       "      <td>5</td>\n",
       "    </tr>\n",
       "  </tbody>\n",
       "</table>\n",
       "</div>"
      ],
      "text/plain": [
       "          Area  pct_2014  pct_2013  Xrows  Ycols\n",
       "0      Houston      0.19      0.22      1      1\n",
       "1        Miami      0.19      0.24      1      2\n",
       "2       Dallas      0.18      0.21      1      3\n",
       "3  San Antonio      0.15      0.19      1      4\n",
       "4      Atlanta      0.15      0.18      1      5"
      ]
     },
     "execution_count": 4,
     "metadata": {},
     "output_type": "execute_result"
    }
   ],
   "source": [
    "df.head()"
   ]
  },
  {
   "cell_type": "code",
   "execution_count": 5,
   "metadata": {},
   "outputs": [
    {
     "data": {
      "text/plain": [
       "(25, 5)"
      ]
     },
     "execution_count": 5,
     "metadata": {},
     "output_type": "execute_result"
    }
   ],
   "source": [
    "df.shape"
   ]
  },
  {
   "cell_type": "code",
   "execution_count": 6,
   "metadata": {},
   "outputs": [
    {
     "name": "stdout",
     "output_type": "stream",
     "text": [
      "[['Houston' 'Miami' 'Dallas' 'San Antonio' 'Atlanta']\n",
      " ['Los Angeles' 'Tampa' 'Riverside, Calif.' 'Phoenix' 'Charlotte']\n",
      " ['San Diego' 'All Metro Areas' 'Chicago' 'New York' 'Denver']\n",
      " ['Washington, D.C.' 'Portland' 'St. Louis' 'Detroit' 'Philadelphia']\n",
      " ['Seattle' 'San Francisco' 'Baltimore' 'Pittsburgh' 'Minneapolis']]\n",
      "[[0.19 0.19 0.18 0.15 0.15]\n",
      " [0.14 0.14 0.14 0.13 0.13]\n",
      " [0.12 0.11 0.11 0.1  0.1 ]\n",
      " [0.09 0.09 0.09 0.09 0.08]\n",
      " [0.08 0.08 0.06 0.06 0.06]]\n",
      "[[0.22 0.24 0.21 0.19 0.18]\n",
      " [0.2  0.17 0.19 0.17 0.15]\n",
      " [0.16 0.14 0.14 0.12 0.14]\n",
      " [0.11 0.13 0.1  0.11 0.1 ]\n",
      " [0.12 0.11 0.09 0.07 0.08]]\n"
     ]
    }
   ],
   "source": [
    "area=(np.asarray(df['Area'])).reshape(5,5)\n",
    "pct14=(np.asarray(df['pct_2014'])).reshape(5,5)\n",
    "pct13=(np.asarray(df['pct_2013'])).reshape(5,5)\n",
    "print(area)\n",
    "print(pct14)\n",
    "print(pct13)"
   ]
  },
  {
   "cell_type": "code",
   "execution_count": 12,
   "metadata": {},
   "outputs": [],
   "source": [
    "result=df.pivot(index='Xrows',values='pct_2013',columns='Ycols')"
   ]
  },
  {
   "cell_type": "code",
   "execution_count": 13,
   "metadata": {},
   "outputs": [
    {
     "data": {
      "text/html": [
       "<div>\n",
       "<style scoped>\n",
       "    .dataframe tbody tr th:only-of-type {\n",
       "        vertical-align: middle;\n",
       "    }\n",
       "\n",
       "    .dataframe tbody tr th {\n",
       "        vertical-align: top;\n",
       "    }\n",
       "\n",
       "    .dataframe thead th {\n",
       "        text-align: right;\n",
       "    }\n",
       "</style>\n",
       "<table border=\"1\" class=\"dataframe\">\n",
       "  <thead>\n",
       "    <tr style=\"text-align: right;\">\n",
       "      <th>Ycols</th>\n",
       "      <th>1</th>\n",
       "      <th>2</th>\n",
       "      <th>3</th>\n",
       "      <th>4</th>\n",
       "      <th>5</th>\n",
       "    </tr>\n",
       "    <tr>\n",
       "      <th>Xrows</th>\n",
       "      <th></th>\n",
       "      <th></th>\n",
       "      <th></th>\n",
       "      <th></th>\n",
       "      <th></th>\n",
       "    </tr>\n",
       "  </thead>\n",
       "  <tbody>\n",
       "    <tr>\n",
       "      <th>1</th>\n",
       "      <td>0.22</td>\n",
       "      <td>0.24</td>\n",
       "      <td>0.21</td>\n",
       "      <td>0.19</td>\n",
       "      <td>0.18</td>\n",
       "    </tr>\n",
       "    <tr>\n",
       "      <th>2</th>\n",
       "      <td>0.20</td>\n",
       "      <td>0.17</td>\n",
       "      <td>0.19</td>\n",
       "      <td>0.17</td>\n",
       "      <td>0.15</td>\n",
       "    </tr>\n",
       "    <tr>\n",
       "      <th>3</th>\n",
       "      <td>0.16</td>\n",
       "      <td>0.14</td>\n",
       "      <td>0.14</td>\n",
       "      <td>0.12</td>\n",
       "      <td>0.14</td>\n",
       "    </tr>\n",
       "    <tr>\n",
       "      <th>4</th>\n",
       "      <td>0.11</td>\n",
       "      <td>0.13</td>\n",
       "      <td>0.10</td>\n",
       "      <td>0.11</td>\n",
       "      <td>0.10</td>\n",
       "    </tr>\n",
       "    <tr>\n",
       "      <th>5</th>\n",
       "      <td>0.12</td>\n",
       "      <td>0.11</td>\n",
       "      <td>0.09</td>\n",
       "      <td>0.07</td>\n",
       "      <td>0.08</td>\n",
       "    </tr>\n",
       "  </tbody>\n",
       "</table>\n",
       "</div>"
      ],
      "text/plain": [
       "Ycols     1     2     3     4     5\n",
       "Xrows                              \n",
       "1      0.22  0.24  0.21  0.19  0.18\n",
       "2      0.20  0.17  0.19  0.17  0.15\n",
       "3      0.16  0.14  0.14  0.12  0.14\n",
       "4      0.11  0.13  0.10  0.11  0.10\n",
       "5      0.12  0.11  0.09  0.07  0.08"
      ]
     },
     "execution_count": 13,
     "metadata": {},
     "output_type": "execute_result"
    }
   ],
   "source": [
    "result"
   ]
  },
  {
   "cell_type": "code",
   "execution_count": 14,
   "metadata": {},
   "outputs": [],
   "source": [
    "labels=(np.asarray([\"{0}\\n{1}\\n{2}\".format(area,pct14,pct13) \n",
    "                    for area,pct14,pct13 in zip (area.flatten(),pct14.flatten(),pct13.flatten())])).reshape(5,5)"
   ]
  },
  {
   "cell_type": "code",
   "execution_count": 15,
   "metadata": {
    "scrolled": true
   },
   "outputs": [
    {
     "data": {
      "text/plain": [
       "array([['Houston\\n0.19\\n0.22', 'Miami\\n0.19\\n0.24', 'Dallas\\n0.18\\n0.21',\n",
       "        'San Antonio\\n0.15\\n0.19', 'Atlanta\\n0.15\\n0.18'],\n",
       "       ['Los Angeles\\n0.14\\n0.2', 'Tampa\\n0.14\\n0.17',\n",
       "        'Riverside, Calif.\\n0.14\\n0.19', 'Phoenix\\n0.13\\n0.17',\n",
       "        'Charlotte\\n0.13\\n0.15'],\n",
       "       ['San Diego\\n0.12\\n0.16', 'All Metro Areas\\n0.11\\n0.14',\n",
       "        'Chicago\\n0.11\\n0.14', 'New York\\n0.1\\n0.12',\n",
       "        'Denver\\n0.1\\n0.14'],\n",
       "       ['Washington, D.C.\\n0.09\\n0.11', 'Portland\\n0.09\\n0.13',\n",
       "        'St. Louis\\n0.09\\n0.1', 'Detroit\\n0.09\\n0.11',\n",
       "        'Philadelphia\\n0.08\\n0.1'],\n",
       "       ['Seattle\\n0.08\\n0.12', 'San Francisco\\n0.08\\n0.11',\n",
       "        'Baltimore\\n0.06\\n0.09', 'Pittsburgh\\n0.06\\n0.07',\n",
       "        'Minneapolis\\n0.06\\n0.08']], dtype='<U27')"
      ]
     },
     "execution_count": 15,
     "metadata": {},
     "output_type": "execute_result"
    }
   ],
   "source": [
    "labels"
   ]
  },
  {
   "cell_type": "code",
   "execution_count": 18,
   "metadata": {},
   "outputs": [
    {
     "data": {
      "image/png": "[encoded data removed]",
      "text/plain": [
       "<Figure size 1080x360 with 2 Axes>"
      ]
     },
     "metadata": {
      "needs_background": "light"
     },
     "output_type": "display_data"
    }
   ],
   "source": [
    "#Heat map\n",
    "fig,ax=plt.subplots(figsize=(15,5))\n",
    "title=\"Health\"\n",
    "plt.title(title,fontsize=20)\n",
    "tt1=ax.title\n",
    "tt1.set_position([0.5,1.05])\n",
    "ax.set_xticks([])\n",
    "ax.set_yticks([])\n",
    "sn.heatmap(result,annot=labels,fmt=\"\",cmap='winter_r',linewidths=0.30,ax=ax)\n",
    "plt.show()"
   ]
  },
  {
   "cell_type": "code",
   "execution_count": null,
   "metadata": {},
   "outputs": [],
   "source": []
  },
  {
   "cell_type": "code",
   "execution_count": null,
   "metadata": {},
   "outputs": [],
   "source": []
  }
 ],
 "metadata": {
  "kernelspec": {
   "display_name": "Python 3",
   "language": "python",
   "name": "python3"
  },
  "language_info": {
   "codemirror_mode": {
    "name": "ipython",
    "version": 3
   },
   "file_extension": ".py",
   "mimetype": "text/x-python",
   "name": "python",
   "nbconvert_exporter": "python",
   "pygments_lexer": "ipython3",
   "version": "3.7.3"
  }
 },
 "nbformat": 4,
 "nbformat_minor": 2
}
